{
 "cells": [
  {
   "cell_type": "markdown",
   "id": "82e107d4-460f-4844-ba59-b3157b867811",
   "metadata": {},
   "source": [
    "# Draw an example tree illustrating the process"
   ]
  },
  {
   "cell_type": "code",
   "execution_count": 6,
   "id": "e79c2450-2475-4b8a-89d1-87e0b1911cf0",
   "metadata": {},
   "outputs": [],
   "source": [
    "import io\n",
    "\n",
    "import Bio.Phylo\n",
    "\n",
    "import matplotlib.pyplot as plt"
   ]
  },
  {
   "cell_type": "markdown",
   "id": "38b3c007-6b57-49c7-9ea6-54d984fe47a4",
   "metadata": {},
   "source": [
    "Define newick string for a tree and draw the unlabeled tree:"
   ]
  },
  {
   "cell_type": "code",
   "execution_count": 53,
   "id": "34ef4885-0950-4104-8b07-3b2157b48343",
   "metadata": {},
   "outputs": [
    {
     "data": {
      "image/png": "[encoded data removed]",
      "text/plain": [
       "<Figure size 900x400 with 1 Axes>"
      ]
     },
     "metadata": {},
     "output_type": "display_data"
    }
   ],
   "source": [
    "newick_str = \"((((t1:1,t2:1)n1:1,(t3:1,t4:1)n2:1)n3:1),(t5:1,t6:1)n5:1)n4:1;\"\n",
    "\n",
    "tree = Bio.Phylo.read(io.StringIO(newick_str), \"newick\")\n",
    "\n",
    "_, ax = plt.subplots(figsize=(9, 4))\n",
    "\n",
    "ax.axis(\"off\")\n",
    "\n",
    "Bio.Phylo.draw(tree, axes=ax, do_show=False, label_func=lambda c: None)"
   ]
  },
  {
   "cell_type": "code",
   "execution_count": 51,
   "id": "964685da-2772-4dcf-9a49-1805b29ca890",
   "metadata": {},
   "outputs": [
    {
     "data": {
      "image/png": "[encoded data removed]",
      "text/plain": [
       "<Figure size 900x400 with 1 Axes>"
      ]
     },
     "metadata": {},
     "output_type": "display_data"
    }
   ],
   "source": [
    "def branch_labels(node):\n",
    "    try:\n",
    "        return {\n",
    "            \"n1\": \"mutation\",\n",
    "            \"t3\": \"mutation\",\n",
    "            \"t6\": \"mutation\",\n",
    "        }[node.name]\n",
    "    except KeyError:\n",
    "        return \"\"\n",
    "    \n",
    "def label_func(node):\n",
    "    try:\n",
    "        return {\n",
    "            \"n1\": \"acG\",\n",
    "            \"n2\": \"aca\",\n",
    "            \"n3\": \"aca\",\n",
    "            \"n4\": \"aca\",\n",
    "            \"n5\": \"aca\",\n",
    "            \"t1\": \"acG\",\n",
    "            \"t2\": \"acG\",\n",
    "            \"t3\": \"acG\",\n",
    "            \"t4\": \"aca\",\n",
    "            \"t5\": \"aca\",\n",
    "            \"t6\": \"acG\",\n",
    "        }[node.name]\n",
    "    except KeyError:\n",
    "        return node.name\n",
    "\n",
    "_, ax = plt.subplots(figsize=(9, 4))\n",
    "ax.axis(\"off\")\n",
    "Bio.Phylo.draw(\n",
    "    tree,\n",
    "    axes=ax,\n",
    "    label_func=label_func,\n",
    "    branch_labels=branch_labels,\n",
    ")"
   ]
  },
  {
   "cell_type": "code",
   "execution_count": 57,
   "id": "4ca13083-0816-4d37-b278-5b01b735a444",
   "metadata": {},
   "outputs": [],
   "source": [
    "_.savefig(\"tree.pdf\")"
   ]
  },
  {
   "cell_type": "code",
   "execution_count": 28,
   "id": "81cf4cf7-358d-48d8-9aae-4fcf2f017fe2",
   "metadata": {},
   "outputs": [
    {
     "name": "stdout",
     "output_type": "stream",
     "text": [
      "Help on function draw in module Bio.Phylo._utils:\n",
      "\n",
      "draw(tree, label_func=<class 'str'>, do_show=True, show_confidence=True, axes=None, branch_labels=None, label_colors=None, *args, **kwargs)\n",
      "    Plot the given tree using matplotlib (or pylab).\n",
      "    \n",
      "    The graphic is a rooted tree, drawn with roughly the same algorithm as\n",
      "    draw_ascii.\n",
      "    \n",
      "    Additional keyword arguments passed into this function are used as pyplot\n",
      "    options. The input format should be in the form of:\n",
      "    pyplot_option_name=(tuple), pyplot_option_name=(tuple, dict), or\n",
      "    pyplot_option_name=(dict).\n",
      "    \n",
      "    Example using the pyplot options 'axhspan' and 'axvline'::\n",
      "    \n",
      "        from Bio import Phylo, AlignIO\n",
      "        from Bio.Phylo.TreeConstruction import DistanceCalculator, DistanceTreeConstructor\n",
      "        constructor = DistanceTreeConstructor()\n",
      "        aln = AlignIO.read(open('TreeConstruction/msa.phy'), 'phylip')\n",
      "        calculator = DistanceCalculator('identity')\n",
      "        dm = calculator.get_distance(aln)\n",
      "        tree = constructor.upgma(dm)\n",
      "        Phylo.draw(tree, axhspan=((0.25, 7.75), {'facecolor':'0.5'}),\n",
      "        ... axvline={'x':0, 'ymin':0, 'ymax':1})\n",
      "    \n",
      "    Visual aspects of the plot can also be modified using pyplot's own functions\n",
      "    and objects (via pylab or matplotlib). In particular, the pyplot.rcParams\n",
      "    object can be used to scale the font size (rcParams[\"font.size\"]) and line\n",
      "    width (rcParams[\"lines.linewidth\"]).\n",
      "    \n",
      "    :Parameters:\n",
      "        label_func : callable\n",
      "            A function to extract a label from a node. By default this is str(),\n",
      "            but you can use a different function to select another string\n",
      "            associated with each node. If this function returns None for a node,\n",
      "            no label will be shown for that node.\n",
      "        do_show : bool\n",
      "            Whether to show() the plot automatically.\n",
      "        show_confidence : bool\n",
      "            Whether to display confidence values, if present on the tree.\n",
      "        axes : matplotlib/pylab axes\n",
      "            If a valid matplotlib.axes.Axes instance, the phylogram is plotted\n",
      "            in that Axes. By default (None), a new figure is created.\n",
      "        branch_labels : dict or callable\n",
      "            A mapping of each clade to the label that will be shown along the\n",
      "            branch leading to it. By default this is the confidence value(s) of\n",
      "            the clade, taken from the ``confidence`` attribute, and can be\n",
      "            easily toggled off with this function's ``show_confidence`` option.\n",
      "            But if you would like to alter the formatting of confidence values,\n",
      "            or label the branches with something other than confidence, then use\n",
      "            this option.\n",
      "        label_colors : dict or callable\n",
      "            A function or a dictionary specifying the color of the tip label.\n",
      "            If the tip label can't be found in the dict or label_colors is\n",
      "            None, the label will be shown in black.\n",
      "\n"
     ]
    }
   ],
   "source": [
    "help(Bio.Phylo.draw)"
   ]
  },
  {
   "cell_type": "code",
   "execution_count": 46,
   "id": "0520f8e9-77d6-45fa-b36d-b43444d29d45",
   "metadata": {},
   "outputs": [
    {
     "name": "stdout",
     "output_type": "stream",
     "text": [
      "Help on function text in module matplotlib.axes._axes:\n",
      "\n",
      "text(self, x, y, s, fontdict=None, **kwargs)\n",
      "    Add text to the Axes.\n",
      "    \n",
      "    Add the text *s* to the Axes at location *x*, *y* in data coordinates.\n",
      "    \n",
      "    Parameters\n",
      "    ----------\n",
      "    x, y : float\n",
      "        The position to place the text. By default, this is in data\n",
      "        coordinates. The coordinate system can be changed using the\n",
      "        *transform* parameter.\n",
      "    \n",
      "    s : str\n",
      "        The text.\n",
      "    \n",
      "    fontdict : dict, default: None\n",
      "        A dictionary to override the default text properties. If fontdict\n",
      "        is None, the defaults are determined by `.rcParams`.\n",
      "    \n",
      "    Returns\n",
      "    -------\n",
      "    `.Text`\n",
      "        The created `.Text` instance.\n",
      "    \n",
      "    Other Parameters\n",
      "    ----------------\n",
      "    **kwargs : `~matplotlib.text.Text` properties.\n",
      "        Other miscellaneous text parameters.\n",
      "    \n",
      "        Properties:\n",
      "        agg_filter: a filter function, which takes a (m, n, 3) float array and a dpi value, and returns a (m, n, 3) array and two offsets from the bottom left corner of the image\n",
      "        alpha: scalar or None\n",
      "        animated: bool\n",
      "        backgroundcolor: color\n",
      "        bbox: dict with properties for `.patches.FancyBboxPatch`\n",
      "        clip_box: unknown\n",
      "        clip_on: unknown\n",
      "        clip_path: unknown\n",
      "        color or c: color\n",
      "        figure: `.Figure`\n",
      "        fontfamily or family: {FONTNAME, 'serif', 'sans-serif', 'cursive', 'fantasy', 'monospace'}\n",
      "        fontproperties or font or font_properties: `.font_manager.FontProperties` or `str` or `pathlib.Path`\n",
      "        fontsize or size: float or {'xx-small', 'x-small', 'small', 'medium', 'large', 'x-large', 'xx-large'}\n",
      "        fontstretch or stretch: {a numeric value in range 0-1000, 'ultra-condensed', 'extra-condensed', 'condensed', 'semi-condensed', 'normal', 'semi-expanded', 'expanded', 'extra-expanded', 'ultra-expanded'}\n",
      "        fontstyle or style: {'normal', 'italic', 'oblique'}\n",
      "        fontvariant or variant: {'normal', 'small-caps'}\n",
      "        fontweight or weight: {a numeric value in range 0-1000, 'ultralight', 'light', 'normal', 'regular', 'book', 'medium', 'roman', 'semibold', 'demibold', 'demi', 'bold', 'heavy', 'extra bold', 'black'}\n",
      "        gid: str\n",
      "        horizontalalignment or ha: {'left', 'center', 'right'}\n",
      "        in_layout: bool\n",
      "        label: object\n",
      "        linespacing: float (multiple of font size)\n",
      "        math_fontfamily: str\n",
      "        mouseover: bool\n",
      "        multialignment or ma: {'left', 'right', 'center'}\n",
      "        parse_math: bool\n",
      "        path_effects: `.AbstractPathEffect`\n",
      "        picker: None or bool or float or callable\n",
      "        position: (float, float)\n",
      "        rasterized: bool\n",
      "        rotation: float or {'vertical', 'horizontal'}\n",
      "        rotation_mode: {None, 'default', 'anchor'}\n",
      "        sketch_params: (scale: float, length: float, randomness: float)\n",
      "        snap: bool or None\n",
      "        text: object\n",
      "        transform: `.Transform`\n",
      "        transform_rotates_text: bool\n",
      "        url: str\n",
      "        usetex: bool or None\n",
      "        verticalalignment or va: {'bottom', 'baseline', 'center', 'center_baseline', 'top'}\n",
      "        visible: bool\n",
      "        wrap: bool\n",
      "        x: float\n",
      "        y: float\n",
      "        zorder: float\n",
      "    \n",
      "    Examples\n",
      "    --------\n",
      "    Individual keyword arguments can be used to override any given\n",
      "    parameter::\n",
      "    \n",
      "        >>> text(x, y, s, fontsize=12)\n",
      "    \n",
      "    The default transform specifies that text is in data coords,\n",
      "    alternatively, you can specify text in axis coords ((0, 0) is\n",
      "    lower-left and (1, 1) is upper-right).  The example below places\n",
      "    text in the center of the Axes::\n",
      "    \n",
      "        >>> text(0.5, 0.5, 'matplotlib', horizontalalignment='center',\n",
      "        ...      verticalalignment='center', transform=ax.transAxes)\n",
      "    \n",
      "    You can put a rectangular box around the text instance (e.g., to\n",
      "    set a background color) by using the keyword *bbox*.  *bbox* is\n",
      "    a dictionary of `~matplotlib.patches.Rectangle`\n",
      "    properties.  For example::\n",
      "    \n",
      "        >>> text(x, y, s, bbox=dict(facecolor='red', alpha=0.5))\n",
      "\n"
     ]
    }
   ],
   "source": [
    "help(plt.Axes.text)"
   ]
  },
  {
   "cell_type": "code",
   "execution_count": 11,
   "id": "c0dd53e8-db28-47bd-b8cc-7baa53afee0a",
   "metadata": {},
   "outputs": [
    {
     "data": {
      "text/plain": [
       "<Figure size 640x480 with 0 Axes>"
      ]
     },
     "execution_count": 11,
     "metadata": {},
     "output_type": "execute_result"
    }
   ],
   "source": [
    "_"
   ]
  },
  {
   "cell_type": "code",
   "execution_count": null,
   "id": "72ae91b1-7a1c-47d8-8240-2167473cf3cc",
   "metadata": {},
   "outputs": [],
   "source": []
  }
 ],
 "metadata": {
  "kernelspec": {
   "display_name": "Python 3 (ipykernel)",
   "language": "python",
   "name": "python3"
  },
  "language_info": {
   "codemirror_mode": {
    "name": "ipython",
    "version": 3
   },
   "file_extension": ".py",
   "mimetype": "text/x-python",
   "name": "python",
   "nbconvert_exporter": "python",
   "pygments_lexer": "ipython3",
   "version": "3.9.15"
  }
 },
 "nbformat": 4,
 "nbformat_minor": 5
}
