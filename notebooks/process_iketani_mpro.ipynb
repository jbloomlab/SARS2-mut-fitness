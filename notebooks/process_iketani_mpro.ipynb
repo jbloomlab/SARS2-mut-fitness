{
 "cells": [
  {
   "cell_type": "markdown",
   "id": "fb912616-be1a-483f-adae-b2377038bb9f",
   "metadata": {},
   "source": [
    "# Process Iketani et al Mpro mutational scanning\n",
    "Process the values to mutation effect estimates.\n",
    "\n",
    "The next cell is tagged parameters, and so the values will be replaced by `papermill` parameterization:"
   ]
  },
  {
   "cell_type": "code",
   "execution_count": 1,
   "id": "342a9641-c88e-4564-9905-37518e2ec9ad",
   "metadata": {
    "tags": [
     "parameters"
    ]
   },
   "outputs": [],
   "source": [
    "raw_data_csv = \"../results/dms/iketani_mpro/raw.csv\"\n",
    "wt_seq_fasta = \"../results/dms/iketani_mpro/wt.fa\"\n",
    "processed_csv = \"../results/dms/iketani_mpro/processed.csv\""
   ]
  },
  {
   "cell_type": "markdown",
   "id": "d67affdc-4a9a-4f7c-a3ae-902a54c58234",
   "metadata": {},
   "source": [
    "Import Python modules:"
   ]
  },
  {
   "cell_type": "code",
   "execution_count": 2,
   "id": "c0fd0530-075a-4b0d-93ce-d9a6f98edf64",
   "metadata": {},
   "outputs": [],
   "source": [
    "import Bio.SeqIO\n",
    "\n",
    "import numpy\n",
    "\n",
    "import pandas as pd"
   ]
  },
  {
   "cell_type": "markdown",
   "id": "ff729e6b-b0c1-4da4-acc4-3617e26deb25",
   "metadata": {},
   "source": [
    "Read the wildtype sequence.\n",
    "For some reason the protein they used started at the seventh position in their wildtype sequence.\n",
    "Also exclude the final stop codon:"
   ]
  },
  {
   "cell_type": "code",
   "execution_count": 3,
   "id": "2a947720-0db2-475c-ace1-d5561af5e1e2",
   "metadata": {},
   "outputs": [
    {
     "data": {
      "text/plain": [
       "'SGFRKMAFPSGKVEGCMVQVTCGTTTLNGLWLDDVVYCPRHVICTSEDMLNPNYEDLLIRKSNHNFLVQAGNVQLRVIGHSMQNCVLKLKVDTANPKTPKYKFVRIQPGQTFSVLACYNGSPSGVYQCAMRPNFTIKGSFLNGSCGSVGFNIDYDCVSFCYMHHMELPTGVHAGTDLEGNFYGPFVDRQTAQAAGTDTTITVNVLAWLYAAVINGDRWFLNRFTTTLNDFNLVAMKYNYEPLTQDHVDILGPLSAQTGIAVLDMCASLKELLQNGMNGRTILGSALLEDEFTPFDVVRQCSGVTFQ'"
      ]
     },
     "execution_count": 3,
     "metadata": {},
     "output_type": "execute_result"
    }
   ],
   "source": [
    "wt_seq = str(Bio.SeqIO.read(wt_seq_fasta, \"fasta\").translate().seq)[6: -1]\n",
    "\n",
    "wt_seq"
   ]
  },
  {
   "cell_type": "markdown",
   "id": "dcfca4bd-5a96-4026-a56b-0ff102d1e812",
   "metadata": {},
   "source": [
    "Read the raw data and convert to mutation effects:"
   ]
  },
  {
   "cell_type": "code",
   "execution_count": 4,
   "id": "d27334a3-25e2-4223-bd03-6f51d1e95e95",
   "metadata": {},
   "outputs": [
    {
     "data": {
      "text/html": [
       "<div>\n",
       "<style scoped>\n",
       "    .dataframe tbody tr th:only-of-type {\n",
       "        vertical-align: middle;\n",
       "    }\n",
       "\n",
       "    .dataframe tbody tr th {\n",
       "        vertical-align: top;\n",
       "    }\n",
       "\n",
       "    .dataframe thead th {\n",
       "        text-align: right;\n",
       "    }\n",
       "</style>\n",
       "<table border=\"1\" class=\"dataframe\">\n",
       "  <thead>\n",
       "    <tr style=\"text-align: right;\">\n",
       "      <th></th>\n",
       "      <th>site</th>\n",
       "      <th>wildtype</th>\n",
       "      <th>mutant</th>\n",
       "      <th>effect</th>\n",
       "    </tr>\n",
       "  </thead>\n",
       "  <tbody>\n",
       "    <tr>\n",
       "      <th>0</th>\n",
       "      <td>1</td>\n",
       "      <td>S</td>\n",
       "      <td>*</td>\n",
       "      <td>-0.662300</td>\n",
       "    </tr>\n",
       "    <tr>\n",
       "      <th>1</th>\n",
       "      <td>1</td>\n",
       "      <td>S</td>\n",
       "      <td>A</td>\n",
       "      <td>0.023196</td>\n",
       "    </tr>\n",
       "    <tr>\n",
       "      <th>2</th>\n",
       "      <td>1</td>\n",
       "      <td>S</td>\n",
       "      <td>C</td>\n",
       "      <td>0.008618</td>\n",
       "    </tr>\n",
       "    <tr>\n",
       "      <th>3</th>\n",
       "      <td>1</td>\n",
       "      <td>S</td>\n",
       "      <td>D</td>\n",
       "      <td>-0.620688</td>\n",
       "    </tr>\n",
       "    <tr>\n",
       "      <th>4</th>\n",
       "      <td>1</td>\n",
       "      <td>S</td>\n",
       "      <td>E</td>\n",
       "      <td>-0.780123</td>\n",
       "    </tr>\n",
       "    <tr>\n",
       "      <th>...</th>\n",
       "      <td>...</td>\n",
       "      <td>...</td>\n",
       "      <td>...</td>\n",
       "      <td>...</td>\n",
       "    </tr>\n",
       "    <tr>\n",
       "      <th>6055</th>\n",
       "      <td>306</td>\n",
       "      <td>Q</td>\n",
       "      <td>S</td>\n",
       "      <td>1.172006</td>\n",
       "    </tr>\n",
       "    <tr>\n",
       "      <th>6056</th>\n",
       "      <td>306</td>\n",
       "      <td>Q</td>\n",
       "      <td>T</td>\n",
       "      <td>0.406673</td>\n",
       "    </tr>\n",
       "    <tr>\n",
       "      <th>6057</th>\n",
       "      <td>306</td>\n",
       "      <td>Q</td>\n",
       "      <td>V</td>\n",
       "      <td>0.057967</td>\n",
       "    </tr>\n",
       "    <tr>\n",
       "      <th>6058</th>\n",
       "      <td>306</td>\n",
       "      <td>Q</td>\n",
       "      <td>W</td>\n",
       "      <td>-0.301491</td>\n",
       "    </tr>\n",
       "    <tr>\n",
       "      <th>6059</th>\n",
       "      <td>306</td>\n",
       "      <td>Q</td>\n",
       "      <td>Y</td>\n",
       "      <td>0.551111</td>\n",
       "    </tr>\n",
       "  </tbody>\n",
       "</table>\n",
       "<p>6060 rows × 4 columns</p>\n",
       "</div>"
      ],
      "text/plain": [
       "      site wildtype mutant    effect\n",
       "0        1        S      * -0.662300\n",
       "1        1        S      A  0.023196\n",
       "2        1        S      C  0.008618\n",
       "3        1        S      D -0.620688\n",
       "4        1        S      E -0.780123\n",
       "...    ...      ...    ...       ...\n",
       "6055   306        Q      S  1.172006\n",
       "6056   306        Q      T  0.406673\n",
       "6057   306        Q      V  0.057967\n",
       "6058   306        Q      W -0.301491\n",
       "6059   306        Q      Y  0.551111\n",
       "\n",
       "[6060 rows x 4 columns]"
      ]
     },
     "execution_count": 4,
     "metadata": {},
     "output_type": "execute_result"
    }
   ],
   "source": [
    "raw_data = pd.read_csv(raw_data_csv)\n",
    "\n",
    "# process the data\n",
    "processed = (\n",
    "    raw_data\n",
    "    .merge(\n",
    "        (\n",
    "            raw_data\n",
    "            .query(\"WT == 1\")\n",
    "            [[\"resid\", \"mut\"]]\n",
    "            .drop_duplicates()\n",
    "            .rename(columns={\"mut\": \"wildtype\"})\n",
    "        ),\n",
    "        on=\"resid\",\n",
    "        how=\"left\",\n",
    "        validate=\"many_to_one\",\n",
    "    )\n",
    "    .rename(\n",
    "        columns={\n",
    "            \"resid\": \"site\",\n",
    "            \"AS\": \"effect\",\n",
    "            \"mut\": \"mutant\",\n",
    "        }\n",
    "    )\n",
    "    [[\"site\", \"wildtype\", \"mutant\", \"effect\"]]\n",
    "    .query(\"site.notnull()\")\n",
    "    .assign(site=lambda x: x[\"site\"].astype(int))\n",
    ")\n",
    "\n",
    "# some sites are missing wildtypes, add these and then set all wildtype to zero\n",
    "wt_df = pd.DataFrame(enumerate(wt_seq, start=1), columns=[\"site\", \"wildtype\"])\n",
    "\n",
    "processed = processed.merge(wt_df, how=\"outer\", on=\"site\", validate=\"many_to_one\")\n",
    "\n",
    "assert (\n",
    "    (processed[\"wildtype_x\"] == processed[\"wildtype_y\"])\n",
    "    | processed[\"wildtype_x\"].isnull()\n",
    ").all()\n",
    "\n",
    "processed = (\n",
    "    processed\n",
    "    .rename(columns={\"wildtype_y\": \"wildtype\"})\n",
    "    [[\"site\", \"wildtype\", \"mutant\", \"effect\"]]\n",
    "    .assign(\n",
    "        effect=lambda x: numpy.where(x[\"wildtype\"] != x[\"mutant\"], x[\"effect\"], 0),\n",
    "    )\n",
    ")\n",
    "\n",
    "assert processed[\"wildtype\"].notnull().all()\n",
    "\n",
    "processed"
   ]
  },
  {
   "cell_type": "code",
   "execution_count": 5,
   "id": "b5ec3321-6298-4a7f-9867-85a7f37d48dc",
   "metadata": {},
   "outputs": [],
   "source": [
    "processed.to_csv(processed_csv, index=False)"
   ]
  },
  {
   "cell_type": "code",
   "execution_count": null,
   "id": "0d51a22a-e2a6-46c2-ace5-0cc28b45a394",
   "metadata": {},
   "outputs": [],
   "source": []
  }
 ],
 "metadata": {
  "kernelspec": {
   "display_name": "Python 3 (ipykernel)",
   "language": "python",
   "name": "python3"
  },
  "language_info": {
   "codemirror_mode": {
    "name": "ipython",
    "version": 3
   },
   "file_extension": ".py",
   "mimetype": "text/x-python",
   "name": "python",
   "nbconvert_exporter": "python",
   "pygments_lexer": "ipython3",
   "version": "3.9.15"
  }
 },
 "nbformat": 4,
 "nbformat_minor": 5
}
