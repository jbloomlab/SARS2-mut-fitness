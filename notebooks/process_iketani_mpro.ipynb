{
 "cells": [
  {
   "cell_type": "markdown",
   "id": "fb912616-be1a-483f-adae-b2377038bb9f",
   "metadata": {},
   "source": [
    "# Process Iketani et al Mpro mutational scanning\n",
    "Process the values to mutation effect estimates.\n",
    "\n",
    "Get variables from `snakemake`:"
   ]
  },
  {
   "cell_type": "code",
   "execution_count": null,
   "id": "342a9641-c88e-4564-9905-37518e2ec9ad",
   "metadata": {
    "tags": [
     "parameters"
    ]
   },
   "outputs": [],
   "source": [
    "if \"snakemake\" in globals() or \"snakemake\" in locals():\n",
    "    raw_data_csv = snakemake.input.raw_data\n",
    "    wt_seq_fasta = snakemake.input.wt_seq\n",
    "    processed_csv = snakemake.output.processed\n",
    "else:\n",
    "    # running interactively\n",
    "    raw_data_csv = \"../results/dms/iketani_mpro/raw.csv\"\n",
    "    wt_seq_fasta = \"../data/Mpro.fa\"\n",
    "    processed_csv = \"../results/dms/iketani_mpro/processed.csv\""
   ]
  },
  {
   "cell_type": "markdown",
   "id": "d67affdc-4a9a-4f7c-a3ae-902a54c58234",
   "metadata": {},
   "source": [
    "Import Python modules:"
   ]
  },
  {
   "cell_type": "code",
   "execution_count": null,
   "id": "c0fd0530-075a-4b0d-93ce-d9a6f98edf64",
   "metadata": {},
   "outputs": [],
   "source": [
    "import Bio.SeqIO\n",
    "\n",
    "import numpy\n",
    "\n",
    "import pandas as pd"
   ]
  },
  {
   "cell_type": "markdown",
   "id": "ff729e6b-b0c1-4da4-acc4-3617e26deb25",
   "metadata": {},
   "source": [
    "Read the wildtype sequence:"
   ]
  },
  {
   "cell_type": "code",
   "execution_count": null,
   "id": "2a947720-0db2-475c-ace1-d5561af5e1e2",
   "metadata": {},
   "outputs": [],
   "source": [
    "wt_seq = str(Bio.SeqIO.read(wt_seq_fasta, \"fasta\").seq)\n",
    "\n",
    "wt_seq"
   ]
  },
  {
   "cell_type": "markdown",
   "id": "dcfca4bd-5a96-4026-a56b-0ff102d1e812",
   "metadata": {},
   "source": [
    "Read the raw data and convert to mutation effects:"
   ]
  },
  {
   "cell_type": "code",
   "execution_count": null,
   "id": "d27334a3-25e2-4223-bd03-6f51d1e95e95",
   "metadata": {},
   "outputs": [],
   "source": [
    "raw_data = pd.read_csv(raw_data_csv)\n",
    "\n",
    "# process the data\n",
    "processed = (\n",
    "    raw_data\n",
    "    .merge(\n",
    "        (\n",
    "            raw_data\n",
    "            .query(\"WT == 1\")\n",
    "            [[\"resid\", \"mut\"]]\n",
    "            .drop_duplicates()\n",
    "            .rename(columns={\"mut\": \"wildtype\"})\n",
    "        ),\n",
    "        on=\"resid\",\n",
    "        how=\"left\",\n",
    "        validate=\"many_to_one\",\n",
    "    )\n",
    "    .rename(\n",
    "        columns={\n",
    "            \"resid\": \"site\",\n",
    "            \"AS\": \"effect\",\n",
    "            \"mut\": \"mutant\",\n",
    "        }\n",
    "    )\n",
    "    [[\"site\", \"wildtype\", \"mutant\", \"effect\"]]\n",
    "    .query(\"site.notnull()\")\n",
    "    .assign(site=lambda x: x[\"site\"].astype(int))\n",
    ")\n",
    "\n",
    "# some sites are missing wildtypes, add these and then set all wildtype to zero\n",
    "wt_df = pd.DataFrame(enumerate(wt_seq, start=1), columns=[\"site\", \"wildtype\"])\n",
    "\n",
    "processed = processed.merge(wt_df, how=\"outer\", on=\"site\", validate=\"many_to_one\")\n",
    "\n",
    "assert (\n",
    "    (processed[\"wildtype_x\"] == processed[\"wildtype_y\"])\n",
    "    | processed[\"wildtype_x\"].isnull()\n",
    ").all()\n",
    "\n",
    "processed = (\n",
    "    processed\n",
    "    .rename(columns={\"wildtype_y\": \"wildtype\"})\n",
    "    [[\"site\", \"wildtype\", \"mutant\", \"effect\"]]\n",
    "    .assign(\n",
    "        effect=lambda x: numpy.where(x[\"wildtype\"] != x[\"mutant\"], x[\"effect\"], 0),\n",
    "    )\n",
    ")\n",
    "\n",
    "assert processed[\"wildtype\"].notnull().all()\n",
    "\n",
    "processed"
   ]
  },
  {
   "cell_type": "code",
   "execution_count": null,
   "id": "b5ec3321-6298-4a7f-9867-85a7f37d48dc",
   "metadata": {},
   "outputs": [],
   "source": [
    "processed.to_csv(processed_csv, index=False, float_format=\"%.5g\")"
   ]
  },
  {
   "cell_type": "code",
   "execution_count": null,
   "id": "0d51a22a-e2a6-46c2-ace5-0cc28b45a394",
   "metadata": {},
   "outputs": [],
   "source": []
  }
 ],
 "metadata": {
  "kernelspec": {
   "display_name": "Python 3 (ipykernel)",
   "language": "python",
   "name": "python3"
  },
  "language_info": {
   "codemirror_mode": {
    "name": "ipython",
    "version": 3
   },
   "file_extension": ".py",
   "mimetype": "text/x-python",
   "name": "python",
   "nbconvert_exporter": "python",
   "pygments_lexer": "ipython3",
   "version": "3.9.15"
  }
 },
 "nbformat": 4,
 "nbformat_minor": 5
}
