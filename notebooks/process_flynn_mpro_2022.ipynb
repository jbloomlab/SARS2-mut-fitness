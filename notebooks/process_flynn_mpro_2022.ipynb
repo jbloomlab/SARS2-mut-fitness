{
 "cells": [
  {
   "cell_type": "markdown",
   "id": "fb912616-be1a-483f-adae-b2377038bb9f",
   "metadata": {},
   "source": [
    "# Process Flynn et al (2022) Mpro mutational scanning\n",
    "Process the values to mutation effect estimates.\n",
    "\n",
    "Get variables from `snakemake`:"
   ]
  },
  {
   "cell_type": "code",
   "execution_count": null,
   "id": "342a9641-c88e-4564-9905-37518e2ec9ad",
   "metadata": {
    "tags": [
     "parameters"
    ]
   },
   "outputs": [],
   "source": [
    "if \"snakemake\" in globals() or \"snakemake\" in locals():\n",
    "    raw_data_csv = snakemake.input.raw_data\n",
    "    wt_seq_fasta = snakemake.input.wt_seq\n",
    "    processed_csv = snakemake.output.processed\n",
    "else:\n",
    "    # running interactively\n",
    "    raw_data_csv = \"../results/dms/flynn_mpro_2022/raw.csv\"\n",
    "    wt_seq_fasta = \"../data/Mpro.fa\"\n",
    "    processed_csv = \"../results/dms/flynn_mpro_2022/processed.csv\""
   ]
  },
  {
   "cell_type": "markdown",
   "id": "d67affdc-4a9a-4f7c-a3ae-902a54c58234",
   "metadata": {},
   "source": [
    "Import Python modules:"
   ]
  },
  {
   "cell_type": "code",
   "execution_count": null,
   "id": "c0fd0530-075a-4b0d-93ce-d9a6f98edf64",
   "metadata": {},
   "outputs": [],
   "source": [
    "import Bio.SeqIO\n",
    "\n",
    "import numpy\n",
    "\n",
    "import pandas as pd"
   ]
  },
  {
   "cell_type": "markdown",
   "id": "bde340e3-22b7-4313-a8b5-a2a9233514ef",
   "metadata": {},
   "source": [
    "Read the wildtype sequence:"
   ]
  },
  {
   "cell_type": "code",
   "execution_count": null,
   "id": "ceec5047-f5a3-4b60-9ee5-8af67abbddf4",
   "metadata": {},
   "outputs": [],
   "source": [
    "wt_seq = str(Bio.SeqIO.read(wt_seq_fasta, \"fasta\").seq)\n",
    "\n",
    "wt_seq"
   ]
  },
  {
   "cell_type": "markdown",
   "id": "ff729e6b-b0c1-4da4-acc4-3617e26deb25",
   "metadata": {},
   "source": [
    "Read and process the data.\n",
    "We average the replicates for each assay, and then report an effect of mutations for each assay as well as averaged over assays:"
   ]
  },
  {
   "cell_type": "code",
   "execution_count": null,
   "id": "efd6b694-16ab-4506-a571-67de9a88081a",
   "metadata": {},
   "outputs": [],
   "source": [
    "# read raw data, not it is actually in Excel and not CSV\n",
    "raw_data = pd.read_excel(raw_data_csv, sheet_name=None)\n",
    "\n",
    "assays = sorted(set(sheet.split()[0] for sheet in raw_data))\n",
    "print(f\"Found data for {assays=}\")\n",
    "\n",
    "df = (\n",
    "    pd.concat(\n",
    "        [\n",
    "            sheet_df.assign(sheet=sheet).rename(columns={\" aa\": \"aa\"})\n",
    "            for sheet, sheet_df in raw_data.items()\n",
    "        ]\n",
    "    )\n",
    "    .query(\"Position != 'WT'\")  # have normalized functional scores of 1 by definition\n",
    "    .assign(\n",
    "        site=lambda x: x[\"Position\"].astype(int),\n",
    "        assay=lambda x: x[\"sheet\"].str.split().str[0],\n",
    "        effect=lambda x: x[\"functional score (normalized)\"],\n",
    "        wildtype=lambda x: x[\"site\"].map(dict(enumerate(wt_seq, start=1))),\n",
    "    )\n",
    "    .query(\"effect.notnull()\")\n",
    "    .query(\"wildtype != aa\")  # do not keep wildtype to wildtype mutations\n",
    "    .groupby([ \"assay\", \"site\", \"wildtype\", \"aa\"], as_index=False)\n",
    "    .aggregate(effect=pd.NamedAgg(\"effect\", \"mean\"))\n",
    "    .pivot_table(\n",
    "        index=[\"site\", \"wildtype\", \"aa\"],\n",
    "        values=\"effect\",\n",
    "        columns=\"assay\",\n",
    "    )\n",
    "    .assign(effect=lambda x: x.mean(axis=1, skipna=True))\n",
    "    .reset_index()\n",
    "    .rename(columns={\"aa\": \"mutant\", \"Growth\": \"growth\"})\n",
    "    [[\"site\", \"wildtype\", \"mutant\", \"effect\", \"growth\", \"FRET\", \"TF\"]]\n",
    ")\n",
    "\n",
    "df"
   ]
  },
  {
   "cell_type": "code",
   "execution_count": null,
   "id": "98e0dc43-d671-48ed-ae89-51bbf8afcdda",
   "metadata": {},
   "outputs": [],
   "source": [
    "df.to_csv(processed_csv, index=False, float_format=\"%.5g\")"
   ]
  }
 ],
 "metadata": {
  "kernelspec": {
   "display_name": "Python 3 (ipykernel)",
   "language": "python",
   "name": "python3"
  },
  "language_info": {
   "codemirror_mode": {
    "name": "ipython",
    "version": 3
   },
   "file_extension": ".py",
   "mimetype": "text/x-python",
   "name": "python",
   "nbconvert_exporter": "python",
   "pygments_lexer": "ipython3",
   "version": "3.9.15"
  }
 },
 "nbformat": 4,
 "nbformat_minor": 5
}
