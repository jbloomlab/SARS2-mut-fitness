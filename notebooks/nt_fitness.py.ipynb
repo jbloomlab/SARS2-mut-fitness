{
 "cells": [
  {
   "cell_type": "markdown",
   "id": "61b0caed-473e-4904-95de-d07f0ede0b7c",
   "metadata": {},
   "source": [
    "# Estimate nucleotide fitness values aggregated across clades\n",
    "\n",
    "## Explanation of what this notebook is doing\n",
    "For each clade have estimated the change in fitness $\\Delta f_{xy}$ caused by mutating a site from nucleotide $x$ to $y$, where $x$ is the nucleotide in the clade founder sequence.\n",
    "For each such mutation, we also have $n_{xy}$ which is the number of **expected** mutations from the clade founder nucleotide $x$ to $y$.\n",
    "These $n_{xy}$ values are important because they give some estimate of our \"confidence\" in the $\\Delta f_{xy}$ values: if a mutation has high expected counts (large $n_{xy}$) then we can estimate the change in fitness caused by the mutation more accurately, and if $n_{xy}$ is small then the estimate will be much noisier.\n",
    "\n",
    "However, we would like to aggregate the data across multiple clades to estimate nucleotide fitness values at a site under the assumption that these are constant across clades.\n",
    "Now things get more complicated.\n",
    "For instance, let's say at our site of interest, the clade founder nucleotide is $x$ in one clade and $z$ in another clade.\n",
    "For each clade we then have a set of $\\Delta f_{xy}$ and $n_{xy}$ values for the first clade (where $y$ ranges over the 20 nucleotide, including stop codon, that aren't $x$), and another set of up to 20 $\\Delta f_{zy}$ and $n_{zy}$ values for the second clade (where $y$ ranges over the 20 nucleotide that aren't $z$).\n",
    "\n",
    "From these sets of mutation fitness changes, we'd like to estimate the fitness $f_x$ of each nucleotide $x$, where the $f_x$ values satisfy $\\Delta f_{xy} = f_y - f_x$ (in other words, a higher $f_x$ means higher fitness of that nucleotide).\n",
    "When there are multiple clades with different founder nucleotides at the site, there is no guarantee that we can find $f_x$ values that precisely satisfy the above equation since there are more $\\Delta f_{xy}$ values than $f_x$ values and the $\\Delta f_{xy}$ values may have noise (and is some cases even real shifts among clades due to epistasis).\n",
    "Nonetheless, we can try to find the $f_x$ values that come closest to satisfying the above equation.\n",
    "\n",
    "First, we choose one nucleotide to have a fitness value of zero, since the scale of the $f_x$ values is arbitrary and there are really only 20 unique parameters among the 21 $f_x$ values (there are 21 nucleotides since we consider stops, but we only measure differences among them, not absolute values).\n",
    "Typically if there was just one clade, we would set the wildtype value of $f_x = 0$ and then for mutations to all other nucleotides $y$ we would simply have $f_y = \\Delta f_{xy}$.\n",
    "However, when there are multple clades with different founder nucleotides, there is no longer a well defined \"wildtype\".\n",
    "So we choose the most common **non-stop** parental nucleotide for the observed mutations and set that to zero.\n",
    "In other words, we find $x$ that maximizes $\\sum_y n_{xy}$ and set that $f_x$ value to zero.\n",
    "\n",
    "Next, we choose the $f_x$ values that most closely match the measured mutation effects, weighting more strongly mutation effects with higher expected counts (since these should be more accurate).\n",
    "Specifically, we define a loss function as\n",
    "$$\n",
    "L = \\sum_x \\sum_{y \\ne x} n_{xy} \\left(\\Delta f_{xy} - \\left[f_y - f_x\\right]\\right)^2\n",
    "$$\n",
    "where we ignore effects of synonymous mutations (the $x \\ne y$ term in second summand) because we are only examining protein-level effects.\n",
    "We then use numerical optimization to find the $f_x$ values that minimize that loss $L$.\n",
    "\n",
    "Finally, we would still like to report an equivalent of the $n_{xy}$ values for the $\\Delta f_{xy}$ values that give us some sense of how accurately we have estimated the fitness $f_x$ of each nucleotide.\n",
    "To do that, we tabulate $N_x = \\sum_y \\left(n_{xy} + n_{yx} \\right)$ as the total number of mutations either from or to nucleotide $x$ as the \"count\" for the nucleotide.\n",
    "Nucleotides with larger values of $N_x$ should have more accurate estimates of $f_x$."
   ]
  },
  {
   "cell_type": "markdown",
   "id": "ffeb8d99-b6f3-4d1f-b60d-fd33c7dc496b",
   "metadata": {},
   "source": [
    "## Implementation of calculation\n",
    "\n",
    "Get variables from `snakemake`:"
   ]
  },
  {
   "cell_type": "code",
   "execution_count": null,
   "id": "b6c551ff-5ef5-4871-9566-5c910cfbecc9",
   "metadata": {},
   "outputs": [],
   "source": [
    "if \"snakemake\" in locals() or \"snakemake\" in globals():\n",
    "    # from snakemake \n",
    "    ntmut_fitness_csv = snakemake.input.ntmut_fitness\n",
    "    nt_fitness_csv = snakemake.output.nt_fitness\n",
    "else:\n",
    "    # manually defined for debugging outside snakemake pipeline\n",
    "    ntmut_fitness_csv = \"../results/nt_fitness/ntmut_fitness_all.csv\"\n",
    "    nt_fitness_csv = \"../results/nt_fitness/nt_fitness.csv\""
   ]
  },
  {
   "cell_type": "markdown",
   "id": "e8520459-dda9-482e-a111-43fb31928e7f",
   "metadata": {},
   "source": [
    "Import Python modules:"
   ]
  },
  {
   "cell_type": "code",
   "execution_count": null,
   "id": "70cb9a51-fdcd-4170-aa43-8b038d71e7e0",
   "metadata": {
    "tags": []
   },
   "outputs": [],
   "source": [
    "import numpy\n",
    "\n",
    "import pandas as pd\n",
    "\n",
    "import scipy.optimize"
   ]
  },
  {
   "cell_type": "markdown",
   "id": "9c5b4020-8ef7-4607-af7a-287f765a6eb5",
   "metadata": {},
   "source": [
    "We read the nucleotide mutation fitnesses:"
   ]
  },
  {
   "cell_type": "code",
   "execution_count": null,
   "id": "32a5af08-e40c-4844-a111-7313039a4936",
   "metadata": {
    "tags": []
   },
   "outputs": [],
   "source": [
    "ntmut_fitness = pd.read_csv(ntmut_fitness_csv).assign(\n",
    "    parent_nt=lambda x: x[\"nt_mutation\"].str[0],\n",
    "    mutant_nt=lambda x: x[\"nt_mutation\"].str[-1],\n",
    ")\n",
    "\n",
    "ntmut_fitness"
   ]
  },
  {
   "cell_type": "code",
   "execution_count": null,
   "id": "38915457-446e-4fd2-9a54-4c68194bf47d",
   "metadata": {
    "tags": []
   },
   "outputs": [],
   "source": [
    "def get_nt_fitness(site_df):\n",
    "    \"\"\"Estimates fitness of nucleotides at site in a gene.\"\"\"\n",
    "    assert site_df[\"gene\"].nunique() == 1\n",
    "    gene = site_df[\"gene\"].unique()[0]\n",
    "    \n",
    "    assert site_df[\"nt_site\"].nunique() == 1\n",
    "    site = site_df[\"nt_site\"].unique()[0]\n",
    "    \n",
    "    assert len(site_df) == len(site_df.groupby([\"parent_nt\", \"mutant_nt\"])), site_df\n",
    "    \n",
    "    # if there is just one clade founder x, then f_y = Delta f_xy,\n",
    "    # and n_y = n_xy for y != x and n_x = sum_y n_xy.\n",
    "    if site_df[\"parent_nt\"].nunique() == 1:\n",
    "        return pd.concat(\n",
    "            [\n",
    "                (\n",
    "                    site_df\n",
    "                    .rename(\n",
    "                        columns={\n",
    "                            \"mutant_nt\": \"nt\",\n",
    "                            \"delta_fitness\": \"fitness\",\n",
    "                        }\n",
    "                    )\n",
    "                    [[\"nt_site\", \"nt\", \"fitness\", \"expected_count\"]]\n",
    "                ),\n",
    "                pd.DataFrame(\n",
    "                    {\n",
    "                        \"nt_site\": [site],\n",
    "                        \"nt\": site_df[\"parent_nt\"].unique(),\n",
    "                        \"fitness\": [0.0],\n",
    "                        \"expected_count\": [site_df[\"expected_count\"].sum()]\n",
    "                    }\n",
    "                )\n",
    "            ],\n",
    "        ).assign(nt_differs_among_clade_founders=False)\n",
    "    \n",
    "    # If we get here, there are multiple clade founders and we need to solve for f_x.\n",
    "    # The code below is highly inefficient in terms of speed, but is fast enough\n",
    "    # for current purposes.\n",
    "    \n",
    "    # first get counts of each nucleotide and the highest count one for which\n",
    "    # we set f_x to zero\n",
    "    count_df = (\n",
    "        site_df\n",
    "        .rename(columns={\"parent_nt\": \"nt\"})\n",
    "        .groupby(\"nt\", as_index=False)\n",
    "        .aggregate(count_1=pd.NamedAgg(\"expected_count\", \"sum\"))\n",
    "        .merge(\n",
    "            site_df\n",
    "            .rename(columns={\"mutant_nt\": \"nt\"})\n",
    "            .groupby(\"nt\", as_index=False)\n",
    "            .aggregate(count_2=pd.NamedAgg(\"expected_count\", \"sum\")),\n",
    "            how=\"outer\",\n",
    "            on=\"nt\",\n",
    "        )\n",
    "        .fillna(0)\n",
    "        .assign(count=lambda x: x[\"count_1\"] + x[\"count_2\"])\n",
    "        .sort_values(\"count\")\n",
    "    )\n",
    "    counts = count_df.set_index(\"nt\")[\"count\"].to_dict()\n",
    "    highest_count_nt = count_df[\"nt\"].tolist()[-1]\n",
    "    nts = [nt for nt in count_df[\"nt\"] if nt != highest_count_nt]  # all but highest count\n",
    "    \n",
    "    parent_nts = site_df[\"parent_nt\"].unique()\n",
    "    mutant_nts = site_df[\"mutant_nt\"].unique()\n",
    "    # keyed by (parent_nt, mutant_nt)\n",
    "    site_dict = (\n",
    "        site_df\n",
    "        .set_index([\"parent_nt\", \"mutant_nt\"])\n",
    "        [[\"expected_count\", \"delta_fitness\"]]\n",
    "        .to_dict(orient=\"index\")\n",
    "    )\n",
    "    \n",
    "    def loss(f_vec):\n",
    "        f_nt = dict(zip(nts, f_vec))\n",
    "        f_nt[highest_count_nt] = 0\n",
    "        loss_val = 0.0\n",
    "        for parent_nt in parent_nts:\n",
    "            f_parent = f_nt[parent_nt]\n",
    "            for mutant_nt in mutant_nts:\n",
    "                try:\n",
    "                    delta_f = site_dict[(parent_nt, mutant_nt)][\"delta_fitness\"]\n",
    "                    n = site_dict[(parent_nt, mutant_nt)][\"expected_count\"]\n",
    "                except KeyError:\n",
    "                    continue\n",
    "                f_mutant = f_nt[mutant_nt]\n",
    "                loss_val += n * (delta_f - (f_mutant - f_parent))**2\n",
    "        return loss_val\n",
    "    \n",
    "    opt_res = scipy.optimize.minimize(loss, numpy.zeros(len(nts)), method=\"Powell\")\n",
    "    assert opt_res.success, f\"{opt_res}\\n\\n{site_df}\"\n",
    "    \n",
    "    fs = dict(zip(nts, opt_res.x))\n",
    "    fs[highest_count_nt] = 0\n",
    "\n",
    "    return pd.DataFrame(\n",
    "        {\n",
    "            \"nt_site\": site,\n",
    "            \"nt\": fs.keys(),\n",
    "            \"fitness\": fs.values(),\n",
    "            \"expected_count\": [counts[nt] for nt in fs],\n",
    "            \"nt_differs_among_clade_founders\": True,\n",
    "        }\n",
    "    )\n",
    "\n",
    "\n",
    "site_dfs = []\n",
    "for i, (site, site_df) in enumerate(ntmut_fitness.groupby(\"nt_site\")):\n",
    "    site_dfs.append(get_nt_fitness(site_df))\n",
    "    if i % 500 == 0:\n",
    "        print(f\"Completed optimization {i + 1}\")\n",
    "print(f\"Completed all {i + 1} optimizations.\")\n",
    "\n",
    "fitness_df = (\n",
    "    pd.concat(site_dfs)\n",
    "    .sort_values([\"nt_site\", \"nt\"])\n",
    "    .reset_index(drop=True)\n",
    ")\n",
    "\n",
    "assert len(fitness_df) == len(fitness_df.groupby([\"nt_site\", \"nt\"]))\n",
    "\n",
    "fitness_df"
   ]
  },
  {
   "cell_type": "markdown",
   "id": "aa18398b-de8b-4f63-98d5-b0d7d1619275",
   "metadata": {},
   "source": [
    "Look at how many sites have changed in clade founders:"
   ]
  },
  {
   "cell_type": "code",
   "execution_count": null,
   "id": "930136bf-fa4f-4f16-ae4f-3ff77076dc0f",
   "metadata": {
    "tags": []
   },
   "outputs": [],
   "source": [
    "(\n",
    "    fitness_df\n",
    "    .groupby(\"nt_differs_among_clade_founders\", as_index=False)\n",
    "    .aggregate(n_sites=pd.NamedAgg(\"nt_site\", \"nunique\"))\n",
    ")"
   ]
  },
  {
   "cell_type": "markdown",
   "id": "ee0be75d-8bdd-4a18-98f5-e82b926a49f5",
   "metadata": {},
   "source": [
    "Now we compare the fitness estimates to the mutation delta fitness values.\n",
    "First do this for all sites where the clade founders share a wildtype.\n",
    "This correlation should be exactly one:"
   ]
  },
  {
   "cell_type": "code",
   "execution_count": null,
   "id": "4aa1d70e-a021-4bec-a13f-5ba5f4183bcb",
   "metadata": {
    "tags": []
   },
   "outputs": [],
   "source": [
    "one_founder_corrs = (\n",
    "    fitness_df\n",
    "    .query(\"not nt_differs_among_clade_founders\")\n",
    "    [[\"nt_site\", \"nt\", \"fitness\"]]\n",
    "    .merge(\n",
    "        ntmut_fitness\n",
    "        [[\"mutant_nt\", \"nt_site\", \"delta_fitness\"]]\n",
    "        .rename(columns={\"mutant_nt\": \"nt\"}),\n",
    "    )\n",
    "    [[\"fitness\", \"delta_fitness\"]]\n",
    "    .corr()\n",
    ")\n",
    "\n",
    "assert (one_founder_corrs.values == 1).all()\n",
    "\n",
    "one_founder_corrs"
   ]
  },
  {
   "cell_type": "markdown",
   "id": "6efccb9a-5582-424e-ae38-6e73a6b25e66",
   "metadata": {},
   "source": [
    "Now get the correlations for sites with multiple clade founders.\n",
    "To do this, we adjust the $\\Delta f_{xy}$ values by the clade founder fitnesses.\n",
    "Now we expect the correlations to be good, but not necessarily quite one.\n",
    "They should be better for the case where the clade founder is the most abundant one as those weigh higher in the fitness estimates:"
   ]
  },
  {
   "cell_type": "code",
   "execution_count": null,
   "id": "70821636-d4a2-4444-bea1-e5837fc8c01d",
   "metadata": {
    "tags": []
   },
   "outputs": [],
   "source": [
    "multi_founder_corrs = (\n",
    "    fitness_df\n",
    "    .query(\"nt_differs_among_clade_founders\")\n",
    "    .drop(columns=\"nt_differs_among_clade_founders\")\n",
    "    .merge(\n",
    "        ntmut_fitness\n",
    "        [[\"parent_nt\", \"mutant_nt\", \"nt_site\", \"delta_fitness\"]]\n",
    "        .rename(columns={\"mutant_nt\": \"nt\"})\n",
    "    )\n",
    "    .merge(\n",
    "        fitness_df[[\"nt_site\", \"nt\", \"fitness\"]]\n",
    "        .rename(columns={\"nt\": \"parent_nt\", \"fitness\": \"clade_founder_fitness\"})\n",
    "    )\n",
    "    .assign(\n",
    "        most_abundant_clade_founder=lambda x: x[\"clade_founder_fitness\"] == 0,\n",
    "        adjusted_delta_fitness=lambda x: x[\"delta_fitness\"] + x[\"clade_founder_fitness\"],\n",
    "    )\n",
    "    .groupby(\"most_abundant_clade_founder\")\n",
    "    [[\"fitness\", \"adjusted_delta_fitness\"]]\n",
    "    .corr()\n",
    ")\n",
    "\n",
    "assert (one_founder_corrs.values >= 0.85).all()\n",
    "\n",
    "multi_founder_corrs.round(3)"
   ]
  },
  {
   "cell_type": "markdown",
   "id": "7cda270b-928c-4c1c-b56a-80b8d3504320",
   "metadata": {},
   "source": [
    "Write the values to a file:"
   ]
  },
  {
   "cell_type": "code",
   "execution_count": null,
   "id": "9c71f6fb-8441-4f98-967d-5e6ecf723b22",
   "metadata": {},
   "outputs": [],
   "source": [
    "print(f\"Writing to {nt_fitness_csv}\")\n",
    "\n",
    "fitness_df.to_csv(nt_fitness_csv, index=False, float_format=\"%.5g\")"
   ]
  },
  {
   "cell_type": "code",
   "execution_count": null,
   "id": "f7edecb9-64b5-4d6b-b923-cd63baac381f",
   "metadata": {},
   "outputs": [],
   "source": []
  }
 ],
 "metadata": {
  "kernelspec": {
   "display_name": "Python 3 (ipykernel)",
   "language": "python",
   "name": "python3"
  },
  "language_info": {
   "codemirror_mode": {
    "name": "ipython",
    "version": 3
   },
   "file_extension": ".py",
   "mimetype": "text/x-python",
   "name": "python",
   "nbconvert_exporter": "python",
   "pygments_lexer": "ipython3",
   "version": "3.9.15"
  }
 },
 "nbformat": 4,
 "nbformat_minor": 5
}
