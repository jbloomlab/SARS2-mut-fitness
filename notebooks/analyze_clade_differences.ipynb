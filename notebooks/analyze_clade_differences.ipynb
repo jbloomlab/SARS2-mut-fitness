{
 "cells": [
  {
   "cell_type": "markdown",
   "id": "a50e0ee4-073e-4196-92fb-a8d34d466947",
   "metadata": {},
   "source": [
    "# Analyze clade differences\n",
    "blah blah\n"
   ]
  },
  {
   "cell_type": "code",
   "execution_count": 1,
   "id": "23b27270-93bd-4a51-ab11-f2c7554d7171",
   "metadata": {
    "execution": {
     "iopub.execute_input": "2022-10-03T20:42:40.481812Z",
     "iopub.status.busy": "2022-10-03T20:42:40.481188Z",
     "iopub.status.idle": "2022-10-03T20:42:41.014515Z",
     "shell.execute_reply": "2022-10-03T20:42:41.013301Z",
     "shell.execute_reply.started": "2022-10-03T20:42:40.481722Z"
    }
   },
   "outputs": [],
   "source": [
    "import pandas as pd"
   ]
  },
  {
   "cell_type": "code",
   "execution_count": null,
   "id": "10322b0a-3721-4e1c-9a0a-80534110966f",
   "metadata": {},
   "outputs": [],
   "source": [
    "df = pd.read_csv(\"../results"
   ]
  }
 ],
 "metadata": {
  "kernelspec": {
   "display_name": "Python 3 (ipykernel)",
   "language": "python",
   "name": "python3"
  },
  "language_info": {
   "codemirror_mode": {
    "name": "ipython",
    "version": 3
   },
   "file_extension": ".py",
   "mimetype": "text/x-python",
   "name": "python",
   "nbconvert_exporter": "python",
   "pygments_lexer": "ipython3",
   "version": "3.9.13"
  }
 },
 "nbformat": 4,
 "nbformat_minor": 5
}
