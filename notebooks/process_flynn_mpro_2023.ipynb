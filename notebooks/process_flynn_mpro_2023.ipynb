{
 "cells": [
  {
   "cell_type": "markdown",
   "id": "0df8fdad-bed4-4383-af17-b0cd1b93c308",
   "metadata": {},
   "source": [
    "# Process Flynn et al (2022) Mpro mutational scanning"
   ]
  },
  {
   "cell_type": "markdown",
   "id": "1e146328-5e9f-4b5c-a52b-f27d3884ffea",
   "metadata": {},
   "source": [
    "Process the values to mutation effect estimates.\n",
    "\n",
    "Get variables from `snakemake`:"
   ]
  },
  {
   "cell_type": "code",
   "execution_count": null,
   "id": "4a618336-76cd-4af9-8fa5-0402adeb0702",
   "metadata": {
    "tags": [
     "parameters"
    ]
   },
   "outputs": [],
   "source": [
    "if \"snakemake\" in globals() or \"snakemake\" in locals():\n",
    "    raw_data_csv = snakemake.input.raw_data\n",
    "    processed_csv = snakemake.output.processed\n",
    "else:\n",
    "    # running interactively\n",
    "    raw_data_csv = \"../results/dms/flynn_mpro_2023/raw.csv\"\n",
    "    processed_csv = \"../results/dms/flynn_mpro_2023/processed.csv\""
   ]
  },
  {
   "cell_type": "markdown",
   "id": "6cf4663e-1e8d-4350-b2f1-ad5c6bb7ea18",
   "metadata": {},
   "source": [
    "Import Python modules:\n"
   ]
  },
  {
   "cell_type": "code",
   "execution_count": null,
   "id": "c760de9f-9f9c-48c3-95a1-ca21ca1d4f6e",
   "metadata": {},
   "outputs": [],
   "source": [
    "import pandas as pd"
   ]
  },
  {
   "cell_type": "markdown",
   "id": "dbac628b-906f-4fe4-b6b4-faf9e257e9d0",
   "metadata": {},
   "source": [
    "Read and process data:"
   ]
  },
  {
   "cell_type": "code",
   "execution_count": null,
   "id": "9665ab40-78e2-4c1c-a72a-94a431013386",
   "metadata": {
    "tags": []
   },
   "outputs": [],
   "source": [
    "processed_data = (\n",
    "    pd.read_excel(raw_data_csv, header=1)\n",
    "    .rename(\n",
    "        columns={\n",
    "            \"WT aa\": \"wildtype\",\n",
    "            \"Position\": \"site\",\n",
    "            \"mutation\": \"mutant\",\n",
    "            \"FS \\n(no drug)\": \"effect\",\n",
    "        },\n",
    "    )\n",
    "    [[\"site\", \"wildtype\", \"mutant\", \"effect\"]]\n",
    "    .query(\"site != 'WT'\")\n",
    "    .assign(site=lambda x: x[\"site\"].astype(int))\n",
    ")"
   ]
  },
  {
   "cell_type": "markdown",
   "id": "95dce494-a658-4eec-81bd-0b5b89c273bb",
   "metadata": {},
   "source": [
    "Write to file:"
   ]
  },
  {
   "cell_type": "code",
   "execution_count": null,
   "id": "c05a6053-e16f-4e2e-ab70-be1ba5bf2215",
   "metadata": {},
   "outputs": [],
   "source": [
    "processed_data.to_csv(processed_csv, float_format=\"%.4g\")"
   ]
  },
  {
   "cell_type": "code",
   "execution_count": null,
   "id": "7ecf2aca-24e1-4adb-8d98-5023238e4de3",
   "metadata": {},
   "outputs": [],
   "source": []
  }
 ],
 "metadata": {
  "kernelspec": {
   "display_name": "Python 3 (ipykernel)",
   "language": "python",
   "name": "python3"
  },
  "language_info": {
   "codemirror_mode": {
    "name": "ipython",
    "version": 3
   },
   "file_extension": ".py",
   "mimetype": "text/x-python",
   "name": "python",
   "nbconvert_exporter": "python",
   "pygments_lexer": "ipython3",
   "version": "3.9.15"
  }
 },
 "nbformat": 4,
 "nbformat_minor": 5
}
