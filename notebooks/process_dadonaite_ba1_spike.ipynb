{
 "cells": [
  {
   "cell_type": "markdown",
   "id": "fb912616-be1a-483f-adae-b2377038bb9f",
   "metadata": {},
   "source": [
    "# Process full-spike deep mutational scanning\n",
    "Process the values to mutation effect estimates.\n",
    "\n",
    "The next cell is tagged parameters, and so the values will be replaced by `papermill` parameterization:"
   ]
  },
  {
   "cell_type": "code",
   "execution_count": null,
   "id": "342a9641-c88e-4564-9905-37518e2ec9ad",
   "metadata": {
    "tags": [
     "parameters"
    ]
   },
   "outputs": [],
   "source": [
    "raw_data_csv = \"../results/dms/dadonaite_ba1_spike/raw.csv\"\n",
    "processed_csv = \"../results/dms/dadonaite_ba1_spike/processed.csv\""
   ]
  },
  {
   "cell_type": "markdown",
   "id": "d67affdc-4a9a-4f7c-a3ae-902a54c58234",
   "metadata": {},
   "source": [
    "Import Python modules:"
   ]
  },
  {
   "cell_type": "code",
   "execution_count": null,
   "id": "c0fd0530-075a-4b0d-93ce-d9a6f98edf64",
   "metadata": {},
   "outputs": [],
   "source": [
    "import pandas as pd"
   ]
  },
  {
   "cell_type": "markdown",
   "id": "ff729e6b-b0c1-4da4-acc4-3617e26deb25",
   "metadata": {},
   "source": [
    "Read the raw data and convert to fitness values:"
   ]
  },
  {
   "cell_type": "code",
   "execution_count": null,
   "id": "d27334a3-25e2-4223-bd03-6f51d1e95e95",
   "metadata": {},
   "outputs": [],
   "source": [
    "(\n",
    "    pd.read_csv(raw_data_csv)\n",
    "    .query(\"wildtype != mutant\")\n",
    "    .rename(columns={\"reference_site\": \"site\"})\n",
    "    [[\"site\", \"wildtype\", \"mutant\", \"effect\", \"times_seen\"]]\n",
    "    .to_csv(processed_csv, index=False)\n",
    ")"
   ]
  },
  {
   "cell_type": "code",
   "execution_count": null,
   "id": "0566ca17-f510-4542-b60b-fc1ff8dc9eaa",
   "metadata": {},
   "outputs": [],
   "source": []
  }
 ],
 "metadata": {
  "kernelspec": {
   "display_name": "Python 3 (ipykernel)",
   "language": "python",
   "name": "python3"
  },
  "language_info": {
   "codemirror_mode": {
    "name": "ipython",
    "version": 3
   },
   "file_extension": ".py",
   "mimetype": "text/x-python",
   "name": "python",
   "nbconvert_exporter": "python",
   "pygments_lexer": "ipython3",
   "version": "3.9.15"
  }
 },
 "nbformat": 4,
 "nbformat_minor": 5
}
