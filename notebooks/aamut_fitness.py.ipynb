{
 "cells": [
  {
   "cell_type": "markdown",
   "id": "9512ae99-8b58-4838-b799-cb969838797f",
   "metadata": {},
   "source": [
    "# Calculate amino-acid fitness effects of mutations from expected versus actual counts\n",
    "\n",
    "Get values from `snakemake`:"
   ]
  },
  {
   "cell_type": "code",
   "execution_count": null,
   "id": "f029c9a4-0cef-43f0-9e07-4322ede4a689",
   "metadata": {
    "tags": []
   },
   "outputs": [],
   "source": [
    "orf1ab_to_nsps = snakemake.params.orf1ab_to_nsps\n",
    "fitness_pseudocount = snakemake.params.fitness_pseudocount\n",
    "expected_vs_actual_counts_csv = snakemake.input.csv"
   ]
  },
  {
   "cell_type": "markdown",
   "id": "13aa62a9-7561-4379-9961-21ad2ee8c7cf",
   "metadata": {
    "execution": {
     "iopub.execute_input": "2022-11-20T14:51:24.454725Z",
     "iopub.status.busy": "2022-11-20T14:51:24.453944Z",
     "iopub.status.idle": "2022-11-20T14:51:24.471166Z",
     "shell.execute_reply": "2022-11-20T14:51:24.470535Z",
     "shell.execute_reply.started": "2022-11-20T14:51:24.454654Z"
    }
   },
   "source": [
    "Import Python modules:"
   ]
  },
  {
   "cell_type": "code",
   "execution_count": null,
   "id": "2585fd16-4114-410d-b1bf-f72454a0f23f",
   "metadata": {
    "tags": []
   },
   "outputs": [],
   "source": [
    "import numpy\n",
    "\n",
    "import pandas as pd"
   ]
  },
  {
   "cell_type": "markdown",
   "id": "08ee1587-b8f5-4f34-a5e7-8c7c1f3c6c67",
   "metadata": {},
   "source": [
    "Read data, then:\n",
    " - Ignore any codons where any constituent nucleotides are masked in `UShER`\n",
    " - Ignore excluded mutations\n",
    " - Exclude mutations in overlapping reading frames\n",
    " - Explode data frame to make a separate line for each gene.\n",
    " - Drop ORF1a, the reason being that after we exclude overlapping reading frame sites there aren't any ORF1a sites not also in ORF1ab.\n",
    " - Aggregate all expected and actual counts for the same amino acid change for each clade / subset / amino-acid mutation"
   ]
  },
  {
   "cell_type": "code",
   "execution_count": null,
   "id": "a56410d1-6b09-45ae-a191-24921f909c40",
   "metadata": {
    "tags": []
   },
   "outputs": [],
   "source": [
    "expected_vs_actual = (\n",
    "    pd.read_csv(expected_vs_actual_counts_csv, low_memory=False)\n",
    "    .assign(\n",
    "        masked_in_usher=lambda x: (\n",
    "            x.groupby([\"gene\", \"clade\", \"codon_site\"])\n",
    "            [\"masked_in_usher\"]\n",
    "            .transform(\"any\")\n",
    "        ),\n",
    "    )\n",
    "    .query(\"not masked_in_usher\")\n",
    "    .query(\"not exclude\")\n",
    "    .assign(\n",
    "        is_overlapping=lambda x: x[\"codon_position\"].str.split(\";\").map(\n",
    "            lambda s: len(set(s)) > 1\n",
    "        )\n",
    "    )\n",
    "    .query(\"not is_overlapping\")\n",
    ")\n",
    "\n",
    "explode_cols = [\"gene\", \"clade_founder_aa\", \"mutant_aa\", \"codon_site\", \"aa_mutation\"]\n",
    "\n",
    "for col in explode_cols:\n",
    "    expected_vs_actual[col] = expected_vs_actual[col].str.split(\";\")\n",
    "\n",
    "expected_vs_actual = (\n",
    "    expected_vs_actual\n",
    "    .explode(explode_cols)\n",
    "    .query(\"gene != 'ORF1a'\")\n",
    "    .assign(weighted_mean_log_size=lambda x: x[\"actual_count\"] * x[\"mean_log_size\"])\n",
    "    .groupby([\"clade\", \"subset\", *explode_cols], as_index=False)\n",
    "    .aggregate(\n",
    "        expected_count=pd.NamedAgg(\"expected_count\", \"sum\"),\n",
    "        actual_count=pd.NamedAgg(\"actual_count\", \"sum\"),\n",
    "        count_terminal=pd.NamedAgg(\"count_terminal\", \"sum\"),\n",
    "        count_non_terminal=pd.NamedAgg(\"count_non_terminal\", \"sum\"),\n",
    "        weighted_mean_log_size=pd.NamedAgg(\"weighted_mean_log_size\", \"sum\"),\n",
    "    )\n",
    "    .rename(columns={\"codon_site\": \"aa_site\"})\n",
    "    .assign(\n",
    "        aa_site=lambda x: x[\"aa_site\"].astype(int),\n",
    "        mean_log_size=lambda x: numpy.where(\n",
    "            x[\"actual_count\"] > 0,\n",
    "            x[\"weighted_mean_log_size\"] / x[\"actual_count\"],\n",
    "            0,\n",
    "        )\n",
    "    )\n",
    "    .drop(columns=\"weighted_mean_log_size\")\n",
    ")\n",
    "\n",
    "assert (\n",
    "    expected_vs_actual[\"clade_founder_aa\"] == expected_vs_actual[\"aa_mutation\"].str[0]\n",
    ").all()\n",
    "\n",
    "expected_vs_actual"
   ]
  },
  {
   "cell_type": "markdown",
   "id": "a6248926-0049-4ef9-a60b-74e204604566",
   "metadata": {
    "execution": {
     "iopub.execute_input": "2022-11-20T15:27:50.109307Z",
     "iopub.status.busy": "2022-11-20T15:27:50.108671Z",
     "iopub.status.idle": "2022-11-20T15:27:50.211307Z",
     "shell.execute_reply": "2022-11-20T15:27:50.210574Z",
     "shell.execute_reply.started": "2022-11-20T15:27:50.109263Z"
    },
    "tags": []
   },
   "source": [
    "In addition to the entries for full ORF1ab, we also want to have mutations numbered by the nsp naming.\n",
    "\n",
    "First, make a data frame that converts the numbering:"
   ]
  },
  {
   "cell_type": "code",
   "execution_count": null,
   "id": "e4ca1b6a-99da-4b22-b4ec-25c435105709",
   "metadata": {
    "tags": []
   },
   "outputs": [],
   "source": [
    "orf1ab_to_nsps_df = pd.concat(\n",
    "    [\n",
    "        pd.DataFrame(\n",
    "            [(i, i - start + 1) for i in range(start, end + 1)],\n",
    "            columns=[\"ORF1ab_site\", \"nsp_site\"],\n",
    "        ).assign(nsp=nsp).drop_duplicates()\n",
    "        for nsp, (start, end) in orf1ab_to_nsps.items()\n",
    "    ],\n",
    "    ignore_index=True,\n",
    ")\n",
    "\n",
    "orf1ab_to_nsps_df"
   ]
  },
  {
   "cell_type": "markdown",
   "id": "373cff86-1c61-434b-b2f3-9c6d79c8275a",
   "metadata": {
    "execution": {
     "iopub.execute_input": "2022-11-20T15:40:49.483104Z",
     "iopub.status.busy": "2022-11-20T15:40:49.482451Z",
     "iopub.status.idle": "2022-11-20T15:40:49.514186Z",
     "shell.execute_reply": "2022-11-20T15:40:49.513349Z",
     "shell.execute_reply.started": "2022-11-20T15:40:49.483058Z"
    },
    "tags": []
   },
   "source": [
    "Now we add to our data frame that has ORF1ab the estimates for the nsp proteins.\n",
    "Note that these means mutations in both ORF1ab and nsp show up **twice** in the data frame with different names, so we add a column to indicate which genes are a subset of ORF1ab:"
   ]
  },
  {
   "cell_type": "code",
   "execution_count": null,
   "id": "8bf83260-9a35-401a-9085-9495412fb0fd",
   "metadata": {
    "tags": []
   },
   "outputs": [],
   "source": [
    "assert (\n",
    "    expected_vs_actual[\"aa_mutation\"]\n",
    "    == (\n",
    "        expected_vs_actual[\"clade_founder_aa\"]\n",
    "        + expected_vs_actual[\"aa_site\"].astype(str)\n",
    "        + expected_vs_actual[\"mutant_aa\"]\n",
    "    )\n",
    ").all()\n",
    "\n",
    "aa_counts_df = pd.concat(\n",
    "    [\n",
    "        expected_vs_actual.assign(subset_of_ORF1ab=False),\n",
    "        (\n",
    "            expected_vs_actual\n",
    "            .query(\"gene == 'ORF1ab'\")\n",
    "            .merge(\n",
    "                orf1ab_to_nsps_df,\n",
    "                left_on=\"aa_site\",\n",
    "                right_on=\"ORF1ab_site\",\n",
    "                validate=\"many_to_one\",\n",
    "            )\n",
    "            .drop(columns=[\"gene\", \"aa_mutation\", \"aa_site\", \"ORF1ab_site\"])\n",
    "            .rename(columns={\"nsp\": \"gene\", \"nsp_site\": \"aa_site\"})\n",
    "            .assign(\n",
    "                aa_mutation=lambda x: (\n",
    "                    x[\"clade_founder_aa\"] + x[\"aa_site\"].astype(str) + x[\"mutant_aa\"]\n",
    "                ),\n",
    "                subset_of_ORF1ab=True,\n",
    "            )\n",
    "        ),\n",
    "    ],\n",
    "    ignore_index=True,\n",
    ")\n",
    "\n",
    "aa_counts_df"
   ]
  },
  {
   "cell_type": "markdown",
   "id": "4d696004-7462-492d-8511-3623dbf15829",
   "metadata": {
    "execution": {
     "iopub.execute_input": "2022-11-20T16:26:38.905683Z",
     "iopub.status.busy": "2022-11-20T16:26:38.905321Z",
     "iopub.status.idle": "2022-11-20T16:26:42.756297Z",
     "shell.execute_reply": "2022-11-20T16:26:42.755413Z",
     "shell.execute_reply.started": "2022-11-20T16:26:38.905662Z"
    },
    "tags": []
   },
   "source": [
    "Now for each subset, compute fitness as log expected / actual (after adding pseudocount) and write to a file:"
   ]
  },
  {
   "cell_type": "code",
   "execution_count": null,
   "id": "fda69755-eb2c-4ccf-a6e1-41dc410d4f50",
   "metadata": {
    "tags": []
   },
   "outputs": [],
   "source": [
    "for by_clade, by_subset, outfile in [\n",
    "    (False, False, snakemake.output.aamut_all),\n",
    "    (True, False, snakemake.output.aamut_by_clade),\n",
    "    (False, True, snakemake.output.aamut_by_subset),\n",
    "]:\n",
    "    df = aa_counts_df\n",
    "    if not by_clade:\n",
    "        assert \"all\" not in df[\"clade\"].unique()\n",
    "        df = (\n",
    "            df\n",
    "            .assign(\n",
    "                weighted_mean_log_size=lambda x: x[\"mean_log_size\"] * x[\"actual_count\"],\n",
    "            )\n",
    "            .drop(columns=\"mean_log_size\")\n",
    "            .groupby(\n",
    "                [\n",
    "                    c for c in df.columns\n",
    "                    if c not in {\n",
    "                        \"clade\",\n",
    "                        \"expected_count\",\n",
    "                        \"actual_count\",\n",
    "                        \"count_terminal\",\n",
    "                        \"count_non_terminal\",\n",
    "                        \"mean_log_size\",\n",
    "                        \"weighted_mean_log_size\",\n",
    "                    }\n",
    "                ],\n",
    "                as_index=False,\n",
    "            )\n",
    "            .aggregate(\n",
    "                {\n",
    "                    \"expected_count\": \"sum\",\n",
    "                    \"actual_count\": \"sum\",\n",
    "                    \"count_terminal\": \"sum\",\n",
    "                    \"count_non_terminal\": \"sum\",\n",
    "                    \"weighted_mean_log_size\": \"sum\",\n",
    "                }\n",
    "            )\n",
    "            .assign(\n",
    "                mean_log_size=lambda x: numpy.where(\n",
    "                    x[\"actual_count\"] > 0,\n",
    "                    x[\"weighted_mean_log_size\"] / x[\"actual_count\"],\n",
    "                    0,\n",
    "                ),\n",
    "            )\n",
    "        )\n",
    "    if not by_subset:\n",
    "        df = df.query(\"subset == 'all'\").drop(columns=\"subset\")\n",
    "    \n",
    "    df[\"delta_fitness\"] = numpy.log(\n",
    "        (df[\"actual_count\"] + fitness_pseudocount)\n",
    "        / (df[\"expected_count\"] + fitness_pseudocount)\n",
    "    )\n",
    "    \n",
    "    df.to_csv(outfile, index=False, float_format=\"%.5g\")"
   ]
  },
  {
   "cell_type": "code",
   "execution_count": null,
   "id": "f80d58a0-d8f6-472e-aed3-3f5aa9a3457d",
   "metadata": {},
   "outputs": [],
   "source": []
  }
 ],
 "metadata": {
  "kernelspec": {
   "display_name": "Python 3 (ipykernel)",
   "language": "python",
   "name": "python3"
  },
  "language_info": {
   "codemirror_mode": {
    "name": "ipython",
    "version": 3
   },
   "file_extension": ".py",
   "mimetype": "text/x-python",
   "name": "python",
   "nbconvert_exporter": "python",
   "pygments_lexer": "ipython3",
   "version": "3.9.15"
  }
 },
 "nbformat": 4,
 "nbformat_minor": 5
}
