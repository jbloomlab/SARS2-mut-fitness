{
 "cells": [
  {
   "cell_type": "markdown",
   "id": "9f28f7b9-82e0-4370-b6af-186249f2594b",
   "metadata": {},
   "source": [
    "# Analyze correlation of amino-acid fitnesses with dN/dS values\n",
    "This notebook looks at how dN/dS values from FEL correlation with site summaries of the amino-acid fitness values and DMS effects, ignoring stop codons but retaining wildtype amino acids when calculating the site entropy summary statistic."
   ]
  },
  {
   "cell_type": "code",
   "execution_count": null,
   "id": "321f4ab5-e53a-4c7e-be22-3dc552bfa495",
   "metadata": {
    "tags": []
   },
   "outputs": [],
   "source": [
    "import altair as alt\n",
    "\n",
    "import numpy\n",
    "\n",
    "import pandas as pd\n",
    "\n",
    "import scipy.stats.mstats"
   ]
  },
  {
   "cell_type": "code",
   "execution_count": null,
   "id": "cf8d9563-72f3-47da-a1c1-2934714ce0bd",
   "metadata": {
    "tags": []
   },
   "outputs": [],
   "source": [
    "# get variables from `snakemake`\n",
    "dnds_csv = snakemake.input.dnds\n",
    "aa_fitness_csv = snakemake.input.aa_fitness\n",
    "corr_html = snakemake.output.corr_html\n",
    "min_expected_count = snakemake.params.min_expected_count\n",
    "\n",
    "# get DMS datasets with added entry for data\n",
    "dms_datasets = snakemake.params.dms_datasets\n",
    "for dataset in dms_datasets:\n",
    "    dms_datasets[dataset][\"data\"] = pd.read_csv(getattr(snakemake.input, dataset))"
   ]
  },
  {
   "cell_type": "markdown",
   "id": "02e207bc-caeb-4cb9-9cf5-f09b67729129",
   "metadata": {},
   "source": [
    "Get dN/dS values averaging the dN (`beta`) and dS (`alpha`) values over timeframes first, and clipping the dN/dS values at 0.05 and 20:"
   ]
  },
  {
   "cell_type": "code",
   "execution_count": null,
   "id": "812a4e92-7a53-4611-b2aa-c6c14cd4ca87",
   "metadata": {
    "tags": []
   },
   "outputs": [],
   "source": [
    "gene_map = {\n",
    "    \"3C\": \"nsp5 (Mpro)\",\n",
    "    \"RdRp\": \"nsp12 (RdRp)\",\n",
    "    \"endornase\": \"nsp15\",\n",
    "    \"exonuclease\": \"nsp14\",\n",
    "    \"helicase\": \"nsp13\",\n",
    "    \"leader\": \"nsp1\",\n",
    "    \"methyltransferase\": \"nsp16\",\n",
    "}\n",
    "\n",
    "dnds = (\n",
    "    pd.read_csv(dnds_csv)\n",
    "    .query(\"(alpha != 0) or (beta != 0)\")\n",
    "    .groupby([\"gene\", \"site\"], as_index=False)\n",
    "    .aggregate({\"alpha\": \"mean\", \"beta\": \"mean\"})\n",
    "    .assign(\n",
    "        dnds=lambda x: numpy.clip(x[\"beta\"] / x[\"alpha\"], a_min=0.05, a_max=20),\n",
    "        log_dnds=lambda x: numpy.log(x[\"dnds\"]),\n",
    "        gene=lambda x: x[\"gene\"].map(lambda g: gene_map[g] if g in gene_map else g),\n",
    "    )\n",
    "    .rename(columns={\"beta\": \"dN\", \"log_dnds\": \"log dN/dS\"})\n",
    "    .drop(columns=[\"alpha\", \"dnds\"])\n",
    ")\n",
    "\n",
    "dnds"
   ]
  },
  {
   "cell_type": "markdown",
   "id": "57f59b47-80e9-469f-9bae-32d0af6bd264",
   "metadata": {},
   "source": [
    "Read amino-acid fitnesses, and for each site:\n",
    " - the mean fitness of mutations\n",
    " - entropy when mutations are assigned a probability weight of $e^{fitness}$"
   ]
  },
  {
   "cell_type": "code",
   "execution_count": null,
   "id": "8bd92aad-fb86-4291-ae86-ac2aef086462",
   "metadata": {
    "tags": []
   },
   "outputs": [],
   "source": [
    "aa_fitness = (\n",
    "    pd.read_csv(aa_fitness_csv)\n",
    "    .query(\"aa != '*'\")\n",
    "    .query(\"gene not in ['ORF1a', 'ORF1ab']\")\n",
    "    .query(\"expected_count >= @min_expected_count\")\n",
    "    .rename(columns={\"aa_site\": \"site\"})\n",
    "    .assign(\n",
    "        p_aa=lambda x: numpy.exp(x[\"fitness\"]),\n",
    "        p=lambda x: x[\"p_aa\"] / x.groupby([\"gene\", \"site\"])[\"p_aa\"].transform(\"sum\"),\n",
    "    )\n",
    "    .groupby([\"gene\", \"site\"], as_index=False)\n",
    "    .aggregate(\n",
    "        mean_fitness=pd.NamedAgg(\"fitness\", \"mean\"),\n",
    "        fitness_entropy=pd.NamedAgg(\"p\", lambda p: -(p * numpy.log(p)).sum()),\n",
    "    )\n",
    "    .assign(fitness_n_effective=lambda x: numpy.exp(x[\"fitness_entropy\"]))\n",
    "    .rename(columns={\"mean_fitness\": \"mean fitness\", \"fitness_entropy\": \"fitness entropy\"})\n",
    ")\n",
    "\n",
    "assert not (set(dnds[\"gene\"].unique()) - set(aa_fitness[\"gene\"].unique()))\n",
    "\n",
    "aa_fitness"
   ]
  },
  {
   "cell_type": "markdown",
   "id": "3c55ad63-8ea2-4200-b1ab-5377b02d1355",
   "metadata": {
    "execution": {
     "iopub.execute_input": "2023-05-26T23:29:30.097371Z",
     "iopub.status.busy": "2023-05-26T23:29:30.096723Z",
     "iopub.status.idle": "2023-05-26T23:29:30.112190Z",
     "shell.execute_reply": "2023-05-26T23:29:30.111483Z",
     "shell.execute_reply.started": "2023-05-26T23:29:30.097327Z"
    },
    "tags": []
   },
   "source": [
    "Merge amino-acid fitness estimates aggregated at site level with dN/dS values:"
   ]
  },
  {
   "cell_type": "code",
   "execution_count": null,
   "id": "dedc5481-5693-47d5-9073-64ada95049e4",
   "metadata": {
    "tags": []
   },
   "outputs": [],
   "source": [
    "fitness_dnds_df = (\n",
    "    aa_fitness\n",
    "    .merge(dnds, on=[\"gene\", \"site\"], validate=\"one_to_one\")\n",
    "    [[\"gene\", \"site\", \"mean fitness\", \"log dN/dS\"]]\n",
    ")"
   ]
  },
  {
   "cell_type": "markdown",
   "id": "6d8953ed-cc18-4471-8075-22caad17d881",
   "metadata": {},
   "source": [
    "Get fitness versus dN/dS correlations for each gene, then plot:"
   ]
  },
  {
   "cell_type": "code",
   "execution_count": null,
   "id": "4181333b-2f0a-417d-82a8-6c994371de13",
   "metadata": {
    "tags": []
   },
   "outputs": [],
   "source": [
    "fitness_dnds_corrs = (\n",
    "    fitness_dnds_df\n",
    "    .groupby(\"gene\")\n",
    "    .corr()\n",
    "    .reset_index()\n",
    "    .query(\"level_1 == 'mean fitness'\")\n",
    "    .rename(columns={\"log dN/dS\": \"Pearson correlation\"})\n",
    "    [[\"gene\", \"Pearson correlation\"]]\n",
    ")\n",
    "\n",
    "fitness_dnds_corrs"
   ]
  },
  {
   "cell_type": "markdown",
   "id": "9a877423-809f-4ec2-a0f0-c3970dc5ecb8",
   "metadata": {},
   "source": [
    "Now plot the fitness versus dN/dS per gene correlations:"
   ]
  },
  {
   "cell_type": "code",
   "execution_count": null,
   "id": "fabfdd62-f31b-4a12-813d-62976ce1698d",
   "metadata": {
    "tags": []
   },
   "outputs": [],
   "source": [
    "# sort by correlation\n",
    "gene_order = (\n",
    "    fitness_dnds_corrs\n",
    "    .sort_values(\"Pearson correlation\", ascending=False)\n",
    "    [\"gene\"]\n",
    "    .tolist()\n",
    ")\n",
    "\n",
    "fitness_dnds_corr_chart = (\n",
    "    alt.Chart(fitness_dnds_corrs)\n",
    "    .encode(\n",
    "        x=alt.X(\"gene\", scale=alt.Scale(domain=gene_order), title=None),\n",
    "        y=alt.Y(\"Pearson correlation\"),\n",
    "        tooltip=[\n",
    "            alt.Tooltip(c, format=\".2f\") if fitness_dnds_corrs[c].dtype == float else c\n",
    "            for c in fitness_dnds_corrs.columns\n",
    "        ],\n",
    "    )\n",
    "    .mark_point(filled=True, size=50, color=\"black\")\n",
    "    .properties(\n",
    "        width=alt.Step(20),\n",
    "        height=150,\n",
    "        title=\"Correlation of site-mean estimated fitness and log dN/dS for each gene\",\n",
    "    )\n",
    ")\n",
    "\n",
    "fitness_dnds_corr_chart"
   ]
  },
  {
   "cell_type": "markdown",
   "id": "a9145484-07eb-4c87-a133-509f3c5b9912",
   "metadata": {},
   "source": [
    "Now for each DMS dataset add in the DMS measured values aggregated at the site level:"
   ]
  },
  {
   "cell_type": "code",
   "execution_count": null,
   "id": "9a5bff06-520a-407d-bd7b-d4b5d604e02d",
   "metadata": {
    "tags": []
   },
   "outputs": [],
   "source": [
    "dms_site_df = []\n",
    "\n",
    "for dms_dataset, dms_d in dms_datasets.items():\n",
    "   \n",
    "    dms_df = (\n",
    "        dms_d[\"data\"]\n",
    "        .query(\"(wildtype != '*') and (mutant != '*')\")\n",
    "    )\n",
    "    \n",
    "    if dms_df[\"site\"].dtype != int:\n",
    "        dms_df = (\n",
    "            dms_df\n",
    "            .query(\"site.str.isnumeric()\")\n",
    "            .assign(site=lambda x: x[\"site\"].astype(int))\n",
    "        )\n",
    "    \n",
    "    if not len(dms_df.query(\"wildtype == mutant\")):\n",
    "        # add wildtypes with effects of zero\n",
    "        dms_df = pd.concat(\n",
    "            [\n",
    "                dms_df,\n",
    "                (\n",
    "                    dms_df\n",
    "                    [[\"site\", \"wildtype\"]]\n",
    "                    .drop_duplicates()\n",
    "                    .assign(mutant=lambda x: x[\"wildtype\"], effect=0)\n",
    "                ),\n",
    "            ]\n",
    "        )\n",
    "    \n",
    "    if \"filter_cols\" in dms_d:\n",
    "        for c, x in dms_d[\"filter_cols\"].items():\n",
    "            dms_df = dms_df[dms_df[c] >= x]\n",
    "            \n",
    "    # calculate site summary DMS and merge with dN/dS and fitness\n",
    "    dms_site_df.append(\n",
    "        dms_df\n",
    "        .groupby(\"site\", as_index=False)\n",
    "        .aggregate(mean_effect=pd.NamedAgg(\"effect\", \"mean\"))\n",
    "        .assign(gene=dms_d[\"gene\"], study=dms_d[\"description\"])\n",
    "        .merge(fitness_dnds_df, on=[\"gene\", \"site\"], validate=\"one_to_one\")\n",
    "    )\n",
    "\n",
    "dms_site_df = (\n",
    "    pd.concat(dms_site_df)\n",
    "    .rename(\n",
    "        columns={\n",
    "            \"mean fitness\": \"fitness (current study)\",\n",
    "            \"mean_effect\": \"DMS measurement\",\n",
    "        }\n",
    "    )\n",
    "    .melt(\n",
    "        id_vars=[\"study\", \"site\", \"DMS measurement\"],\n",
    "        value_vars=[\"fitness (current study)\", \"log dN/dS\"],\n",
    "        var_name=\"estimation method\",\n",
    "        value_name=\"estimated value\",\n",
    "    )\n",
    ")\n",
    "\n",
    "dms_site_df"
   ]
  },
  {
   "cell_type": "markdown",
   "id": "5735bb6a-6198-4199-bcbb-bdeac39b0211",
   "metadata": {},
   "source": [
    "Now plot site correlations of DMS with fitness estimates and dN/dS:"
   ]
  },
  {
   "cell_type": "code",
   "execution_count": null,
   "id": "486d2ea5-5043-4448-8e1c-1c53df64e011",
   "metadata": {
    "tags": []
   },
   "outputs": [],
   "source": [
    "highlight = alt.selection_single(\n",
    "    on=\"mouseover\",\n",
    "    fields=[\"study\", \"site\"],\n",
    "    empty=\"none\",\n",
    ")\n",
    "\n",
    "base = alt.Chart(dms_site_df).encode(\n",
    "    x=alt.X(\"DMS measurement\", scale=alt.Scale(nice=False), axis=alt.Axis(grid=False)),\n",
    "    y=alt.Y(\"estimated value\", axis=alt.Axis(title=None, grid=False), scale=alt.Scale(nice=False)),\n",
    ")\n",
    "\n",
    "dms_site_chart = (\n",
    "    base\n",
    "    .encode(\n",
    "        color=alt.Color(\"study\", legend=None),\n",
    "        shape=alt.Shape(\"estimation method\", legend=None),\n",
    "        strokeWidth=alt.condition(highlight, alt.value(2), alt.value(0)),\n",
    "        size=alt.condition(highlight, alt.value(50), alt.value(25)),\n",
    "        opacity=alt.condition(highlight, alt.value(1), alt.value(0.5)),\n",
    "        tooltip=[\n",
    "            alt.Tooltip(c, format=\".2f\") if dms_site_df[c].dtype == float else c\n",
    "            for c in dms_site_df.columns if c != \"study\"\n",
    "        ],\n",
    "    )\n",
    "    .mark_point(filled=True, stroke=\"black\")\n",
    ")\n",
    "\n",
    "# regression line and correlation coefficient: https://stackoverflow.com/a/60239699\n",
    "line = (\n",
    "    base\n",
    "    .transform_regression(\"DMS measurement\", \"estimated value\")\n",
    "    .mark_line(color=\"gray\", size=4, opacity=0.5)\n",
    ")\n",
    "    \n",
    "params_r = (\n",
    "    base\n",
    "    .transform_regression(\"DMS measurement\", \"estimated value\", params=True)\n",
    "    .transform_calculate(\n",
    "        r=alt.expr.sqrt(alt.datum[\"rSquared\"]),\n",
    "        label='\"r = \" + format(datum.r, \".2f\")',\n",
    "    )\n",
    "    .mark_text(align=\"left\", color=\"gray\", fontWeight=\"bold\", fontSize=13)\n",
    "    .encode(x=alt.value(5), y=alt.value(8), text=alt.Text(\"label:N\"))\n",
    ")\n",
    "\n",
    "dms_corr_chart = (\n",
    "    (dms_site_chart + line + params_r)\n",
    "    .properties(width=155, height=155)\n",
    "    .facet(\n",
    "        column=alt.Column(\n",
    "            \"study\",\n",
    "            title=\"Correlation of site-average DMS measurements with site-mean estimated fitness or log dN/dS\",\n",
    "            header=alt.Header(labelFontSize=12, labelPadding=1, labelFontStyle=\"bold\", titleFontSize=13),\n",
    "        ),\n",
    "        row=alt.Row(\n",
    "            \"estimation method\",\n",
    "            title=None,\n",
    "            header=alt.Header(labelFontStyle=\"bold\", labelFontSize=11, labelPadding=1),\n",
    "        ),\n",
    "        spacing=6,\n",
    "    )\n",
    "    .resolve_scale(x=\"independent\", y=\"independent\")\n",
    "    .add_selection(highlight)\n",
    ")\n",
    "\n",
    "dms_corr_chart"
   ]
  },
  {
   "cell_type": "code",
   "execution_count": null,
   "id": "d9411aee-909b-447c-9fe6-e9bd1722af5c",
   "metadata": {
    "tags": []
   },
   "outputs": [],
   "source": [
    "chart = alt.vconcat(fitness_dnds_corr_chart, dms_corr_chart, spacing=35, center=True)\n",
    "\n",
    "chart.save(corr_html)\n",
    "\n",
    "chart"
   ]
  },
  {
   "cell_type": "code",
   "execution_count": null,
   "id": "4d751bcf-f33d-40d0-954c-06f15f311553",
   "metadata": {},
   "outputs": [],
   "source": []
  }
 ],
 "metadata": {
  "kernelspec": {
   "display_name": "Python 3 (ipykernel)",
   "language": "python",
   "name": "python3"
  },
  "language_info": {
   "codemirror_mode": {
    "name": "ipython",
    "version": 3
   },
   "file_extension": ".py",
   "mimetype": "text/x-python",
   "name": "python",
   "nbconvert_exporter": "python",
   "pygments_lexer": "ipython3",
   "version": "3.9.15"
  }
 },
 "nbformat": 4,
 "nbformat_minor": 5
}
