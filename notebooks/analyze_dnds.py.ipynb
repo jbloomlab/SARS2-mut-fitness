{
 "cells": [
  {
   "cell_type": "markdown",
   "id": "9f28f7b9-82e0-4370-b6af-186249f2594b",
   "metadata": {},
   "source": [
    "# Analyze correlation of amino-acid fitnesses with dN/dS values\n",
    "This notebook looks at how dN/dS values from FEL correlation with the amino-acid fitness values."
   ]
  },
  {
   "cell_type": "code",
   "execution_count": null,
   "id": "cf8d9563-72f3-47da-a1c1-2934714ce0bd",
   "metadata": {
    "tags": []
   },
   "outputs": [],
   "source": [
    "# get variables from `snakemake`\n",
    "dnds_csv = snakemake.input.dnds\n",
    "aa_fitness_csv = snakemake.input.aa_fitness\n",
    "corr_html = snakemake.output.corr_html\n",
    "min_expected_count = snakemake.params.min_expected_count"
   ]
  },
  {
   "cell_type": "code",
   "execution_count": null,
   "id": "321f4ab5-e53a-4c7e-be22-3dc552bfa495",
   "metadata": {
    "tags": []
   },
   "outputs": [],
   "source": [
    "import altair as alt\n",
    "\n",
    "import numpy\n",
    "\n",
    "import pandas as pd\n",
    "\n",
    "import scipy.stats.mstats"
   ]
  },
  {
   "cell_type": "markdown",
   "id": "02e207bc-caeb-4cb9-9cf5-f09b67729129",
   "metadata": {},
   "source": [
    "Get dN/dS values averaging the dN (`beta`) and dS (`alpha`) values over timeframes first, and clipping the dN/dS values at 0.05 and 20:"
   ]
  },
  {
   "cell_type": "code",
   "execution_count": null,
   "id": "812a4e92-7a53-4611-b2aa-c6c14cd4ca87",
   "metadata": {
    "tags": []
   },
   "outputs": [],
   "source": [
    "gene_map = {\n",
    "    \"3C\": \"nsp5 (Mpro)\",\n",
    "    \"RdRp\": \"nsp12 (RdRp)\",\n",
    "    \"endornase\": \"nsp15\",\n",
    "    \"exonuclease\": \"nsp14\",\n",
    "    \"helicase\": \"nsp13\",\n",
    "    \"leader\": \"nsp1\",\n",
    "    \"methyltransferase\": \"nsp16\",\n",
    "}\n",
    "\n",
    "dnds = (\n",
    "    pd.read_csv(dnds_csv)\n",
    "    .query(\"(alpha != 0) or (beta != 0)\")\n",
    "    .groupby([\"gene\", \"site\"], as_index=False)\n",
    "    .aggregate({\"alpha\": \"mean\", \"beta\": \"mean\"})\n",
    "    .assign(\n",
    "        dnds=lambda x: numpy.clip(x[\"beta\"] / x[\"alpha\"], a_min=0.05, a_max=20),\n",
    "        log_dnds=lambda x: numpy.log(x[\"dnds\"]),\n",
    "        gene=lambda x: x[\"gene\"].map(lambda g: gene_map[g] if g in gene_map else g),\n",
    "    )\n",
    "    .rename(columns={\"beta\": \"dn\"})\n",
    "    .drop(columns=[\"alpha\", \"dnds\"])\n",
    ")\n",
    "\n",
    "dnds"
   ]
  },
  {
   "cell_type": "markdown",
   "id": "57f59b47-80e9-469f-9bae-32d0af6bd264",
   "metadata": {},
   "source": [
    "Read amino-acid fitnesses, and for each site:\n",
    " - the mean fitness of mutations\n",
    " - the number of effective amino-acids when amino acids are assigned a probability weight of $e^{fitness}$"
   ]
  },
  {
   "cell_type": "code",
   "execution_count": null,
   "id": "8bd92aad-fb86-4291-ae86-ac2aef086462",
   "metadata": {
    "tags": []
   },
   "outputs": [],
   "source": [
    "aa_fitness = (\n",
    "    pd.read_csv(aa_fitness_csv)\n",
    "    .query(\"gene not in ['ORF1a', 'ORF1ab']\")\n",
    "    .query(\"expected_count >= @min_expected_count\")\n",
    "    .rename(columns={\"aa_site\": \"site\"})\n",
    "    .assign(\n",
    "        p_aa=lambda x: numpy.exp(x[\"fitness\"]),\n",
    "        p=lambda x: x[\"p_aa\"] / x.groupby([\"gene\", \"site\"])[\"p_aa\"].transform(\"sum\"),\n",
    "    )\n",
    "    .groupby([\"gene\", \"site\"], as_index=False)\n",
    "    .aggregate(\n",
    "        mean_fitness=pd.NamedAgg(\"fitness\", \"mean\"),\n",
    "        entropy=pd.NamedAgg(\"p\", lambda p: -(p * numpy.log(p)).sum()),\n",
    "    )\n",
    "    .assign(n_effective=lambda x: numpy.exp(x[\"entropy\"]))\n",
    ")\n",
    "\n",
    "assert not (set(dnds[\"gene\"].unique()) - set(aa_fitness[\"gene\"].unique()))\n",
    "\n",
    "aa_fitness"
   ]
  },
  {
   "cell_type": "markdown",
   "id": "3c55ad63-8ea2-4200-b1ab-5377b02d1355",
   "metadata": {
    "execution": {
     "iopub.execute_input": "2023-05-26T23:29:30.097371Z",
     "iopub.status.busy": "2023-05-26T23:29:30.096723Z",
     "iopub.status.idle": "2023-05-26T23:29:30.112190Z",
     "shell.execute_reply": "2023-05-26T23:29:30.111483Z",
     "shell.execute_reply.started": "2023-05-26T23:29:30.097327Z"
    },
    "tags": []
   },
   "source": [
    "Merge amino-acid fitness estimates aggregated at site level with dN/dS values:"
   ]
  },
  {
   "cell_type": "code",
   "execution_count": null,
   "id": "dedc5481-5693-47d5-9073-64ada95049e4",
   "metadata": {
    "tags": []
   },
   "outputs": [],
   "source": [
    "df = (\n",
    "    aa_fitness\n",
    "    .merge(dnds, on=[\"gene\", \"site\"], validate=\"one_to_one\")\n",
    ")\n",
    "\n",
    "display(df.corr())\n",
    "\n",
    "(\n",
    "    df\n",
    "    .groupby(\"gene\")\n",
    "    [[\"mean_fitness\", \"dn\", \"log_dnds\"]]\n",
    "    .corr()\n",
    "    .reset_index()\n",
    "    .query(\"level_1 == 'mean_fitness'\")\n",
    "    [[\"gene\", \"dn\", \"log_dnds\"]]\n",
    "    .sort_values(\"log_dnds\")\n",
    ")"
   ]
  }
 ],
 "metadata": {
  "kernelspec": {
   "display_name": "Python 3 (ipykernel)",
   "language": "python",
   "name": "python3"
  },
  "language_info": {
   "codemirror_mode": {
    "name": "ipython",
    "version": 3
   },
   "file_extension": ".py",
   "mimetype": "text/x-python",
   "name": "python",
   "nbconvert_exporter": "python",
   "pygments_lexer": "ipython3",
   "version": "3.9.15"
  }
 },
 "nbformat": 4,
 "nbformat_minor": 5
}
