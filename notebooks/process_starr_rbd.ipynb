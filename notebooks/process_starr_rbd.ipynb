{
 "cells": [
  {
   "cell_type": "markdown",
   "id": "fb912616-be1a-483f-adae-b2377038bb9f",
   "metadata": {},
   "source": [
    "# Process RBD deep mutational scanning\n",
    "Process the values to mutation effect estimates.\n",
    "\n",
    "The next cell is tagged parameters, and so the values will be replaced by `papermill` parameterization:"
   ]
  },
  {
   "cell_type": "code",
   "execution_count": null,
   "id": "342a9641-c88e-4564-9905-37518e2ec9ad",
   "metadata": {
    "tags": [
     "parameters"
    ]
   },
   "outputs": [],
   "source": [
    "raw_data_csv = \"../results/dms/starr_rbd/raw.csv\"\n",
    "processed_csv = \"../results/dms/starr_rbd/processed.csv\""
   ]
  },
  {
   "cell_type": "markdown",
   "id": "d67affdc-4a9a-4f7c-a3ae-902a54c58234",
   "metadata": {},
   "source": [
    "Import Python modules:"
   ]
  },
  {
   "cell_type": "code",
   "execution_count": null,
   "id": "c0fd0530-075a-4b0d-93ce-d9a6f98edf64",
   "metadata": {},
   "outputs": [],
   "source": [
    "import numpy\n",
    "\n",
    "import pandas as pd"
   ]
  },
  {
   "cell_type": "markdown",
   "id": "ff729e6b-b0c1-4da4-acc4-3617e26deb25",
   "metadata": {},
   "source": [
    "Read the raw data and convert to mutation effects.\n",
    "We do the following to average across the homologs, as we have measurements in several different homolog (clade) backgrounds:\n",
    "\n",
    " - For Wuhan-Hu-1, only keep the `Wuhan-Hu-1_v2` but not the `Wuhan-Hu-1_v1` dataset.\n",
    " - We call the Wuhan-Hu-1 wildtype identity the reference wildtype.\n",
    " - For any homolog that has a wildtype different than the reference wildtype at a site, we compute the effect of the mutation (on binding and expression) from the reference wildtype to the homolog wildtype at that site.\n",
    " - We then adjust the measured mutational effects on binding and expression to be relative to the reference wildtype value by adding the effect of the mutation in the homolog to the reference wildtype to homolog wildtype affect.\n",
    " - We then average the binding and affinity effects of mutations across all homologs.\n",
    " - We compute an \"effect\" of mutations as just the average of the effect on binding and expression."
   ]
  },
  {
   "cell_type": "code",
   "execution_count": null,
   "id": "d27334a3-25e2-4223-bd03-6f51d1e95e95",
   "metadata": {},
   "outputs": [],
   "source": [
    "raw_data = pd.read_csv(raw_data_csv)\n",
    "\n",
    "processed_data = (\n",
    "    raw_data\n",
    "    .merge(\n",
    "        (\n",
    "            raw_data\n",
    "            .query(\"target == 'Wuhan-Hu-1_v2'\")\n",
    "            [[\"position\", \"wildtype\"]]\n",
    "            .drop_duplicates()\n",
    "            .rename(columns={\"wildtype\": \"ref_wildtype\"})\n",
    "        ),\n",
    "        on=\"position\",\n",
    "        how=\"left\",\n",
    "        validate=\"many_to_one\",\n",
    "    )\n",
    "    .rename(columns={\"position\": \"site\"})\n",
    "    .assign(\n",
    "        ref_to_wildtype_bind=lambda x: numpy.where(\n",
    "            x[\"mutant\"] == x[\"ref_wildtype\"], -x[\"delta_bind\"], pd.NA,\n",
    "        ),\n",
    "        ref_to_wildtype_expr=lambda x: numpy.where(\n",
    "            x[\"mutant\"] == x[\"ref_wildtype\"], -x[\"delta_expr\"], pd.NA,\n",
    "        ),\n",
    "    )\n",
    "    .assign(\n",
    "        # max will get biggest non-null value, and there is just one non-null\n",
    "        ref_to_wildtype_bind=lambda x: (\n",
    "            x.groupby([\"target\", \"site\"])\n",
    "            [\"ref_to_wildtype_bind\"]\n",
    "            .transform(lambda s: s.max())\n",
    "        ),\n",
    "        ref_to_wildtype_expr=lambda x: (\n",
    "            x.groupby([\"target\", \"site\"])\n",
    "            [\"ref_to_wildtype_expr\"]\n",
    "            .transform(lambda s: s.max())\n",
    "        ),\n",
    "        delta_bind=lambda x: x[\"delta_bind\"] + x[\"ref_to_wildtype_bind\"],\n",
    "        delta_expr=lambda x: x[\"delta_expr\"] + x[\"ref_to_wildtype_expr\"],\n",
    "    )\n",
    "    .drop(columns=\"wildtype\")\n",
    "    .rename(columns={\"ref_wildtype\": \"wildtype\"})\n",
    "    .query(\"wildtype != mutant\")\n",
    "    .groupby([\"wildtype\", \"site\", \"mutant\"], as_index=False)\n",
    "    .aggregate({\"delta_bind\": \"mean\", \"delta_expr\": \"mean\"})\n",
    "    .assign(effect=lambda x: (x[\"delta_bind\"] + x[\"delta_expr\"]) / 2)\n",
    "    .rename(\n",
    "        columns={\n",
    "            \"delta bind\": \"effect on ACE2 affinity\",\n",
    "            \"delta expr\": \"effect on RBD expression\"\n",
    "        }\n",
    "    )\n",
    ")\n",
    "\n",
    "assert len(processed_data) == len(processed_data.groupby([\"site\", \"mutant\"]))"
   ]
  },
  {
   "cell_type": "code",
   "execution_count": null,
   "id": "edb8240b-d028-4c5e-b084-9012b78ab807",
   "metadata": {},
   "outputs": [],
   "source": [
    "processed_data.to_csv(processed_csv, index=False, float_format=\"%.5g\")"
   ]
  },
  {
   "cell_type": "code",
   "execution_count": null,
   "id": "b5ec3321-6298-4a7f-9867-85a7f37d48dc",
   "metadata": {},
   "outputs": [],
   "source": []
  }
 ],
 "metadata": {
  "kernelspec": {
   "display_name": "Python 3 (ipykernel)",
   "language": "python",
   "name": "python3"
  },
  "language_info": {
   "codemirror_mode": {
    "name": "ipython",
    "version": 3
   },
   "file_extension": ".py",
   "mimetype": "text/x-python",
   "name": "python",
   "nbconvert_exporter": "python",
   "pygments_lexer": "ipython3",
   "version": "3.9.15"
  }
 },
 "nbformat": 4,
 "nbformat_minor": 5
}
