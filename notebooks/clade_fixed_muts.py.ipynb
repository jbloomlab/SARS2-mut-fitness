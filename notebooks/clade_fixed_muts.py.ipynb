{
 "cells": [
  {
   "cell_type": "markdown",
   "id": "008b56e0-8e16-4e76-851c-edfdc35ca119",
   "metadata": {},
   "source": [
    "# Analyze fitness effects of mutations fixed in each clade\n",
    "\n",
    "Import Python modules:"
   ]
  },
  {
   "cell_type": "code",
   "execution_count": 16,
   "id": "6718e87a-8da0-49fa-a00a-6311caca0f83",
   "metadata": {},
   "outputs": [],
   "source": [
    "import altair as alt\n",
    "\n",
    "import Bio.Seq\n",
    "\n",
    "import pandas as pd\n",
    "\n",
    "import yaml\n",
    "\n",
    "_ = alt.data_transformers.disable_max_rows()"
   ]
  },
  {
   "cell_type": "markdown",
   "id": "60c785d9-1e75-4959-928b-c92580c31c62",
   "metadata": {},
   "source": [
    "Now get variables from `snakemake`:"
   ]
  },
  {
   "cell_type": "code",
   "execution_count": 2,
   "id": "f47affb5-0a48-475e-a522-7de36413e745",
   "metadata": {},
   "outputs": [],
   "source": [
    "if \"snakemake\" not in globals() and \"snakemake\" not in locals():\n",
    "    # variables set manually for interactive debugging\n",
    "    aa_fitness_csv = \"../results/aa_fitness/aa_fitness.csv\"\n",
    "    aamut_by_clade_csv = \"../results/aa_fitness/aamut_fitness_by_clade.csv\"\n",
    "    clade_founder_nts_csv = \"../results/clade_founder_nts/clade_founder_nts.csv\"\n",
    "    \n",
    "    with open(\"../config.yaml\") as f:\n",
    "        config = yaml.safe_load(f)\n",
    "    min_expected_count = config[\"min_expected_count\"]\n",
    "    ref = config[\"clade_fixed_muts_ref\"]\n",
    "    \n",
    "else:\n",
    "    # get variables from `snakemake` when running pipeline\n",
    "    aa_fitness_csv = snakemake.input.aafitness\n",
    "    aamut_by_clade_csv = snakemake.input.aamut_by_clade\n",
    "    clade_founder_nts_csv = snakemake.input.clade_founder_nts_csv\n",
    "    min_expected_count = snakemake.params.min_expected_count\n",
    "    ref = snakemake.params.ref"
   ]
  },
  {
   "cell_type": "markdown",
   "id": "8a7a6ba8-34d3-4d77-835a-60e7ecf166d5",
   "metadata": {},
   "source": [
    "Read the input data:"
   ]
  },
  {
   "cell_type": "code",
   "execution_count": 3,
   "id": "80047a0c-872a-4a6d-9953-0c7e88e84fa0",
   "metadata": {},
   "outputs": [],
   "source": [
    "aa_fitness = pd.read_csv(aa_fitness_csv)\n",
    "aamut_by_clade = pd.read_csv(aamut_by_clade_csv)\n",
    "clade_founder_nts = pd.read_csv(clade_founder_nts_csv)"
   ]
  },
  {
   "cell_type": "markdown",
   "id": "296bb419-0dee-4044-bb61-04851754a75f",
   "metadata": {},
   "source": [
    "First we get the amino acids at each position in each gene in each clade founder and the reference clade.\n",
    "We ignore ORF1a and just look at ORF1ab:"
   ]
  },
  {
   "cell_type": "code",
   "execution_count": 30,
   "id": "205adb3b-25c8-4713-8eb5-b2f46fd2e53c",
   "metadata": {},
   "outputs": [],
   "source": [
    "codon_to_aa = {\n",
    "    f\"{nt1}{nt2}{nt3}\": str(Bio.Seq.Seq(f\"{nt1}{nt2}{nt3}\").translate())\n",
    "    for nt1 in \"ACGT\" for nt2 in \"ACGT\" for nt3 in \"ACGT\"\n",
    "}\n",
    "\n",
    "assert ref in clade_founder_nts[\"clade\"].unique()\n",
    "\n",
    "clade_founder_aas = (\n",
    "    clade_founder_nts\n",
    "    [[\"clade\", \"gene\", \"codon\", \"codon_site\"]]\n",
    "    .drop_duplicates()\n",
    "    .assign(\n",
    "        gene=lambda x: x[\"gene\"].str.split(\";\"),\n",
    "        codon=lambda x: x[\"codon\"].str.split(\";\"),\n",
    "        site=lambda x: x[\"codon_site\"].str.split(\";\"),\n",
    "    )\n",
    "    .explode([\"gene\", \"codon\", \"site\"])\n",
    "    .query(\"gene != 'ORF1a'\")\n",
    "    .assign(amino_acid=lambda x: x[\"codon\"].map(codon_to_aa))\n",
    "    [[\"clade\", \"gene\", \"site\", \"codon\", \"amino_acid\"]]\n",
    "    .drop_duplicates()\n",
    ")\n",
    "\n",
    "clade_founder_aas = clade_founder_aas.merge(\n",
    "    (\n",
    "        clade_founder_aas\n",
    "        .query(\"clade == @ref\")\n",
    "        [[\"gene\", \"site\", \"codon\", \"amino_acid\"]]\n",
    "        .rename(columns={\"codon\": \"ref_codon\", \"amino_acid\": \"ref_amino_acid\"})\n",
    "    ),\n",
    "    on=[\"gene\", \"site\"],\n",
    "    validate=\"many_to_one\",\n",
    ")"
   ]
  },
  {
   "cell_type": "markdown",
   "id": "ae08c6fc-1436-4ddd-9643-84f51aaad9b7",
   "metadata": {},
   "source": [
    "Now get just the amino acid mutations in each clade founder, and summarize the number of such mutations:"
   ]
  },
  {
   "cell_type": "code",
   "execution_count": 34,
   "id": "5ea40145-5b24-46b9-b74d-fa0d9e3fb078",
   "metadata": {},
   "outputs": [
    {
     "data": {
      "text/html": [
       "<div>\n",
       "<style scoped>\n",
       "    .dataframe tbody tr th:only-of-type {\n",
       "        vertical-align: middle;\n",
       "    }\n",
       "\n",
       "    .dataframe tbody tr th {\n",
       "        vertical-align: top;\n",
       "    }\n",
       "\n",
       "    .dataframe thead th {\n",
       "        text-align: right;\n",
       "    }\n",
       "</style>\n",
       "<table border=\"1\" class=\"dataframe\">\n",
       "  <thead>\n",
       "    <tr style=\"text-align: right;\">\n",
       "      <th></th>\n",
       "      <th>n_amino_acid_muts</th>\n",
       "    </tr>\n",
       "    <tr>\n",
       "      <th>clade</th>\n",
       "      <th></th>\n",
       "    </tr>\n",
       "  </thead>\n",
       "  <tbody>\n",
       "    <tr>\n",
       "      <th>20A</th>\n",
       "      <td>2</td>\n",
       "    </tr>\n",
       "    <tr>\n",
       "      <th>20B</th>\n",
       "      <td>4</td>\n",
       "    </tr>\n",
       "    <tr>\n",
       "      <th>20C</th>\n",
       "      <td>4</td>\n",
       "    </tr>\n",
       "    <tr>\n",
       "      <th>20E</th>\n",
       "      <td>5</td>\n",
       "    </tr>\n",
       "    <tr>\n",
       "      <th>20F</th>\n",
       "      <td>6</td>\n",
       "    </tr>\n",
       "    <tr>\n",
       "      <th>20G</th>\n",
       "      <td>11</td>\n",
       "    </tr>\n",
       "    <tr>\n",
       "      <th>20I</th>\n",
       "      <td>18</td>\n",
       "    </tr>\n",
       "    <tr>\n",
       "      <th>20J</th>\n",
       "      <td>21</td>\n",
       "    </tr>\n",
       "    <tr>\n",
       "      <th>21C</th>\n",
       "      <td>9</td>\n",
       "    </tr>\n",
       "    <tr>\n",
       "      <th>21F</th>\n",
       "      <td>11</td>\n",
       "    </tr>\n",
       "    <tr>\n",
       "      <th>21I</th>\n",
       "      <td>22</td>\n",
       "    </tr>\n",
       "    <tr>\n",
       "      <th>21J</th>\n",
       "      <td>26</td>\n",
       "    </tr>\n",
       "    <tr>\n",
       "      <th>21K</th>\n",
       "      <td>42</td>\n",
       "    </tr>\n",
       "    <tr>\n",
       "      <th>21L</th>\n",
       "      <td>48</td>\n",
       "    </tr>\n",
       "    <tr>\n",
       "      <th>22A</th>\n",
       "      <td>50</td>\n",
       "    </tr>\n",
       "    <tr>\n",
       "      <th>22B</th>\n",
       "      <td>48</td>\n",
       "    </tr>\n",
       "    <tr>\n",
       "      <th>22C</th>\n",
       "      <td>50</td>\n",
       "    </tr>\n",
       "    <tr>\n",
       "      <th>22E</th>\n",
       "      <td>55</td>\n",
       "    </tr>\n",
       "  </tbody>\n",
       "</table>\n",
       "</div>"
      ],
      "text/plain": [
       "       n_amino_acid_muts\n",
       "clade                   \n",
       "20A                    2\n",
       "20B                    4\n",
       "20C                    4\n",
       "20E                    5\n",
       "20F                    6\n",
       "20G                   11\n",
       "20I                   18\n",
       "20J                   21\n",
       "21C                    9\n",
       "21F                   11\n",
       "21I                   22\n",
       "21J                   26\n",
       "21K                   42\n",
       "21L                   48\n",
       "22A                   50\n",
       "22B                   48\n",
       "22C                   50\n",
       "22E                   55"
      ]
     },
     "execution_count": 34,
     "metadata": {},
     "output_type": "execute_result"
    }
   ],
   "source": [
    "clade_founder_muts = clade_founder_aas.query(\"amino_acid != ref_amino_acid\")\n",
    "\n",
    "(\n",
    "    clade_founder_muts\n",
    "    .groupby(\"clade\")\n",
    "    .aggregate(n_amino_acid_muts=pd.NamedAgg(\"site\", \"count\"))\n",
    ")"
   ]
  },
  {
   "cell_type": "code",
   "execution_count": 35,
   "id": "11223a1d-03b7-4f78-9588-df1618486ef3",
   "metadata": {},
   "outputs": [
    {
     "data": {
      "text/plain": [
       "0.007857142857142858"
      ]
     },
     "execution_count": 35,
     "metadata": {},
     "output_type": "execute_result"
    }
   ],
   "source": [
    "55 / 7000"
   ]
  },
  {
   "cell_type": "code",
   "execution_count": null,
   "id": "d186ced7-8f6b-437b-8d0c-24ca65e4d320",
   "metadata": {},
   "outputs": [],
   "source": []
  }
 ],
 "metadata": {
  "kernelspec": {
   "display_name": "Python 3 (ipykernel)",
   "language": "python",
   "name": "python3"
  },
  "language_info": {
   "codemirror_mode": {
    "name": "ipython",
    "version": 3
   },
   "file_extension": ".py",
   "mimetype": "text/x-python",
   "name": "python",
   "nbconvert_exporter": "python",
   "pygments_lexer": "ipython3",
   "version": "3.9.15"
  }
 },
 "nbformat": 4,
 "nbformat_minor": 5
}
