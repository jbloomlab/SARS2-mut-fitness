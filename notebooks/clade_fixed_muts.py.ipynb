{
 "cells": [
  {
   "cell_type": "markdown",
   "id": "008b56e0-8e16-4e76-851c-edfdc35ca119",
   "metadata": {},
   "source": [
    "# Analyze fitness effects of mutations fixed in each clade\n",
    "\n",
    "Import Python modules:"
   ]
  },
  {
   "cell_type": "code",
   "execution_count": 1,
   "id": "6718e87a-8da0-49fa-a00a-6311caca0f83",
   "metadata": {},
   "outputs": [],
   "source": [
    "import altair as alt\n",
    "\n",
    "import pandas as pd\n",
    "\n",
    "import yaml\n",
    "\n",
    "_ = alt.data_transformers.disable_max_rows()"
   ]
  },
  {
   "cell_type": "markdown",
   "id": "60c785d9-1e75-4959-928b-c92580c31c62",
   "metadata": {},
   "source": [
    "Now get variables from `snakemake`:"
   ]
  },
  {
   "cell_type": "code",
   "execution_count": 2,
   "id": "f47affb5-0a48-475e-a522-7de36413e745",
   "metadata": {},
   "outputs": [],
   "source": [
    "if \"snakemake\" not in globals() and \"snakemake\" not in locals():\n",
    "    # variables set manually for interactive debugging\n",
    "    aa_fitness_csv = \"../results/aa_fitness/aa_fitness.csv\"\n",
    "    aamut_by_clade_csv = \"../results/aa_fitness/aamut_fitness_by_clade.csv\"\n",
    "    clade_founder_nts_csv = \"../results/clade_founder_nts/clade_founder_nts.csv\"\n",
    "    \n",
    "    with open(\"../config.yaml\") as f:\n",
    "        config = yaml.safe_load(f)\n",
    "    min_expected_count = config[\"min_expected_count\"]\n",
    "    ref = config[\"clade_fixed_muts_ref\"]\n",
    "    \n",
    "else:\n",
    "    # get variables from `snakemake` when running pipeline\n",
    "    aa_fitness_csv = snakemake.input.aafitness\n",
    "    aamut_by_clade_csv = snakemake.input.aamut_by_clade\n",
    "    clade_founder_nts_csv = snakemake.input.clade_founder_nts_csv\n",
    "    min_expected_count = snakemake.params.min_expected_count\n",
    "    ref = snakemake.params.ref"
   ]
  },
  {
   "cell_type": "markdown",
   "id": "8a7a6ba8-34d3-4d77-835a-60e7ecf166d5",
   "metadata": {},
   "source": [
    "Read the input data:"
   ]
  },
  {
   "cell_type": "code",
   "execution_count": 3,
   "id": "80047a0c-872a-4a6d-9953-0c7e88e84fa0",
   "metadata": {},
   "outputs": [],
   "source": [
    "aa_fitness = pd.read_csv(aa_fitness_csv)\n",
    "aamut_by_clade = pd.read_csv(aamut_by_clade_csv)\n",
    "clade_founder_nts = pd.read_csv(clade_founder_nts_csv)"
   ]
  },
  {
   "cell_type": "code",
   "execution_count": null,
   "id": "4c1656d1-83a5-44ac-8e7c-1a3c0becb909",
   "metadata": {},
   "outputs": [],
   "source": []
  }
 ],
 "metadata": {
  "kernelspec": {
   "display_name": "Python 3 (ipykernel)",
   "language": "python",
   "name": "python3"
  },
  "language_info": {
   "codemirror_mode": {
    "name": "ipython",
    "version": 3
   },
   "file_extension": ".py",
   "mimetype": "text/x-python",
   "name": "python",
   "nbconvert_exporter": "python",
   "pygments_lexer": "ipython3",
   "version": "3.9.15"
  }
 },
 "nbformat": 4,
 "nbformat_minor": 5
}
