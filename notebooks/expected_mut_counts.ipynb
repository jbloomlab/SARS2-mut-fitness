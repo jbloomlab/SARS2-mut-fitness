{
 "cells": [
  {
   "cell_type": "markdown",
   "id": "796d8273-8e84-4bef-bec1-21bb6486e794",
   "metadata": {},
   "source": [
    "# Compute expected counts of mutations from synonymous mutation rates and counts."
   ]
  },
  {
   "cell_type": "markdown",
   "id": "f023242f-6dc2-4e2e-a45e-6dcfa582c2e3",
   "metadata": {},
   "source": [
    "Import Python modules:"
   ]
  },
  {
   "cell_type": "code",
   "execution_count": null,
   "id": "d77a34f9-0846-48d8-b164-282097317b39",
   "metadata": {},
   "outputs": [],
   "source": [
    "import altair as alt\n",
    "\n",
    "import pandas as pd"
   ]
  },
  {
   "cell_type": "markdown",
   "id": "9b57d8df-ac4f-4c84-84a8-6afb2a1839e4",
   "metadata": {},
   "source": [
    "Get input variables from `snakemake`:"
   ]
  },
  {
   "cell_type": "code",
   "execution_count": null,
   "id": "eeb9b78d-52e1-4a20-9ebb-c4bf8c358969",
   "metadata": {
    "tags": [
     "parameters"
    ]
   },
   "outputs": [],
   "source": [
    "if \"snakemake\" in locals() or \"snakemake\" in globals():\n",
    "    clade_founder_nts_csv = snakemake.input.clade_founder_nts_csv\n",
    "    rates_by_clade_csv = snakemake.input.rates_by_clade\n",
    "    expected_counts_csv = snakemake.output.expected_counts\n",
    "else:\n",
    "    # if running interactively\n",
    "    clade_founder_nts_csv = \"../results/clade_founder_nts/clade_founder_nts.csv\"\n",
    "    rates_by_clade_csv = \"../results/synonymous_mut_rates/rates_by_clade.csv\"\n",
    "    expected_counts_csv = \"../results/expected_mut_counts/expected_mut_counts.csv\""
   ]
  },
  {
   "cell_type": "markdown",
   "id": "6d4c4815-311e-44b0-8cff-a63c9b08f632",
   "metadata": {},
   "source": [
    "Read input data:"
   ]
  },
  {
   "cell_type": "code",
   "execution_count": null,
   "id": "d20298e0-1a9c-4e3b-9663-2224ef4e2f6a",
   "metadata": {},
   "outputs": [],
   "source": [
    "rates_by_clade = pd.read_csv(rates_by_clade_csv)\n",
    "\n",
    "clade_founder_nts = pd.read_csv(clade_founder_nts_csv, low_memory=False)"
   ]
  },
  {
   "cell_type": "markdown",
   "id": "0ee3fa9c-4bf4-46a9-b6e0-53aefb4c99f8",
   "metadata": {},
   "source": [
    "For each clade, we first compute $T$ that satisfies \n",
    "$$N_s = T \\sum\\limits_{nt_1} s_{nt_1} \\sum\\limits_{nt_2 \\ne nt_1} r_{nt_1\\rightarrow nt_2}$$\n",
    "where $N_s$ is the total number of mutations at 4-fold degenerate synonymous sites observed for the clade, $s_{nt}$ is the number of 4-fold synonymous sites in the clade founder that are nucleotide $nt$, and $r_{nt_1\\rightarrow nt_2}$ is the non-normalized rate of mutations from nucleotide $nt_1$ to $nt_2$ at 4-fold degenerate synonymous sites.\n",
    "\n",
    "The expected number of mutations at each site (under neutrality) from the parental identity of $nt_1$ to some other identity of $nt_2$ is then simply $T \\times r_{nt_1\\rightarrow nt_2}$, which we will call the normalized rate for that clade:"
   ]
  },
  {
   "cell_type": "code",
   "execution_count": null,
   "id": "2a193aab-4090-4d26-acb8-e7a78acd4bbb",
   "metadata": {},
   "outputs": [],
   "source": [
    "# first compute the normalization factor T\n",
    "normalization_factor = (\n",
    "    clade_founder_nts.query(\"four_fold_degenerate\")\n",
    "    .groupby([\"clade\", \"nt\"], as_index=False)\n",
    "    .aggregate(sites_4fold=pd.NamedAgg(\"site\", \"nunique\"))\n",
    "    .rename(columns={\"nt\": \"parent_nt\"})\n",
    "    .merge(rates_by_clade, validate=\"one_to_many\")\n",
    "    .groupby([\"clade\", \"parent_nt\", \"total_count\", \"sites_4fold\"], as_index=False)\n",
    "    .aggregate(summand_2=pd.NamedAgg(\"rate\", \"sum\"))\n",
    "    .assign(s_nt_1_summand_2=lambda x: x[\"sites_4fold\"] * x[\"summand_2\"])\n",
    "    .groupby([\"clade\", \"total_count\"], as_index=False)\n",
    "    .aggregate(summand_1=pd.NamedAgg(\"s_nt_1_summand_2\", \"sum\"))\n",
    "    .assign(normalization_factor=lambda x: x[\"total_count\"] / x[\"summand_1\"])\n",
    "    .drop(columns=\"summand_1\")\n",
    ")\n",
    "\n",
    "display(normalization_factor)\n",
    "\n",
    "expected_muts = (\n",
    "    normalization_factor.merge(clade_founder_nts, on=\"clade\", validate=\"one_to_many\")\n",
    "    .rename(columns={\"nt\": \"parent_nt\"})\n",
    "    .merge(\n",
    "        rates_by_clade[[\"clade\", \"parent_nt\", \"mut_type\", \"rate\"]],\n",
    "        on=[\"clade\", \"parent_nt\"],\n",
    "    )\n",
    "    .assign(expected_count=lambda x: x[\"normalization_factor\"] * x[\"rate\"])\n",
    "    .rename(columns={\"parent_nt\": \"clade_founder_nt\"})[\n",
    "        [\n",
    "            \"clade\",\n",
    "            \"site\",\n",
    "            \"clade_founder_nt\",\n",
    "            \"gene\",\n",
    "            \"codon\",\n",
    "            \"codon_position\",\n",
    "            \"codon_site\",\n",
    "            \"mut_type\",\n",
    "            \"four_fold_degenerate\",\n",
    "            \"expected_count\",\n",
    "        ]\n",
    "    ]\n",
    ")\n",
    "\n",
    "display(expected_muts)\n",
    "\n",
    "print(f\"Writing expected counts to {expected_counts_csv}\")\n",
    "expected_muts.to_csv(expected_counts_csv, float_format=\"%.5g\", index=False)"
   ]
  },
  {
   "cell_type": "markdown",
   "id": "ddd23cba-7d9c-4472-9b11-cb7f175e35b4",
   "metadata": {},
   "source": [
    "Just do a sanity check on the total 4-fold degenerate counts of each mutation type to make sure highly correlated:"
   ]
  },
  {
   "cell_type": "code",
   "execution_count": null,
   "id": "6cd32fad-e7d2-42b5-9218-3efb2f5a1af9",
   "metadata": {},
   "outputs": [],
   "source": [
    "expected_vs_actual_4fold_total = (\n",
    "    expected_muts.query(\"four_fold_degenerate\")\n",
    "    .groupby([\"clade\", \"mut_type\"], as_index=False)\n",
    "    .aggregate({\"expected_count\": \"sum\"})\n",
    "    .merge(\n",
    "        rates_by_clade[[\"clade\", \"mut_type\", \"count\"]].rename(\n",
    "            columns={\"count\": \"actual_count\"}\n",
    "        ),\n",
    "        validate=\"one_to_one\",\n",
    "    )\n",
    ")\n",
    "\n",
    "display(expected_vs_actual_4fold_total)\n",
    "\n",
    "(\n",
    "    alt.Chart(expected_vs_actual_4fold_total)\n",
    "    .encode(\n",
    "        x=alt.X(\"expected_count\", scale=alt.Scale(type=\"log\")),\n",
    "        y=alt.Y(\"actual_count\", scale=alt.Scale(type=\"log\")),\n",
    "        tooltip=expected_vs_actual_4fold_total.columns.tolist(),\n",
    "    )\n",
    "    .mark_point()\n",
    "    .configure_axis(grid=False)\n",
    ")"
   ]
  }
 ],
 "metadata": {
  "kernelspec": {
   "display_name": "Python 3 (ipykernel)",
   "language": "python",
   "name": "python3"
  },
  "language_info": {
   "codemirror_mode": {
    "name": "ipython",
    "version": 3
   },
   "file_extension": ".py",
   "mimetype": "text/x-python",
   "name": "python",
   "nbconvert_exporter": "python",
   "pygments_lexer": "ipython3",
   "version": "3.9.15"
  }
 },
 "nbformat": 4,
 "nbformat_minor": 5
}
