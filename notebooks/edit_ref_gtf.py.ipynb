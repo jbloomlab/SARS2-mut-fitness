{
 "cells": [
  {
   "cell_type": "markdown",
   "id": "b7c7bd7e-749a-4806-9647-453cab26a2f6",
   "metadata": {},
   "source": [
    "# Edit reference GTF to add additional gene features"
   ]
  },
  {
   "cell_type": "code",
   "execution_count": null,
   "id": "dd58075f-01ed-4671-a896-ea1754f070f1",
   "metadata": {},
   "outputs": [],
   "source": [
    "input_gtf = snakemake.input.gtf\n",
    "output_gtf = snakemake.output.gtf\n",
    "edits = snakemake.params.edits"
   ]
  },
  {
   "cell_type": "code",
   "execution_count": null,
   "id": "bfe97e65-ae41-40b5-984c-1f2a5aa104bb",
   "metadata": {
    "tags": []
   },
   "outputs": [],
   "source": [
    "import csv\n",
    "\n",
    "import pandas as pd"
   ]
  },
  {
   "cell_type": "code",
   "execution_count": null,
   "id": "21f587aa-36cc-4e0f-b501-c8eaf8664e1e",
   "metadata": {
    "tags": []
   },
   "outputs": [],
   "source": [
    "gtf = pd.read_csv(\n",
    "    input_gtf,\n",
    "    sep=\"\\t\",\n",
    "    header=None,\n",
    "    names=[\n",
    "        \"seqname\",\n",
    "        \"source\",\n",
    "        \"feature\",\n",
    "        \"start\",\n",
    "        \"end\",\n",
    "        \"score\",\n",
    "        \"strand\",\n",
    "        \"frame\",\n",
    "        \"attribute\",\n",
    "    ],\n",
    ")\n",
    "\n",
    "seqname = gtf[\"seqname\"].unique()\n",
    "assert len(seqname) == 1, seqname\n",
    "seqname = seqname[0]\n",
    "\n",
    "source = gtf[\"source\"].unique()\n",
    "assert len(source) == 1, source\n",
    "source = source[0]\n",
    "\n",
    "assert (\n",
    "    gtf.query(\"feature == 'transcript'\")[\"start\"].tolist()\n",
    "    == sorted(gtf.query(\"feature == 'transcript'\")[\"start\"])\n",
    "), \"transcript starts not sorted\"\n",
    "\n",
    "for gene, [start, end] in edits.items():\n",
    "    print(f\"Adding {gene=}, {start=}, {end=}\")\n",
    "    # get index of first entry in GTF that starts **after** this feature\n",
    "    after_gtf = gtf.query(\"feature == 'transcript'\").query(\"start > @start\")\n",
    "    if len(after_gtf):\n",
    "        i = after_gtf.index[0]\n",
    "    else:\n",
    "        i = len(gtf)\n",
    "    records = []\n",
    "    for feature in [\"transcript\", \"exon\", \"CDS\", \"start_codon\", \"stop_codon\"]:\n",
    "        records.append(\n",
    "            (\n",
    "                seqname,\n",
    "                source,\n",
    "                feature,\n",
    "                start if feature != \"stop_codon\" else end - 2,\n",
    "                start + 2 if feature == \"start\" else end - 3 if feature == \"CDS\" else end,\n",
    "                \".\",\n",
    "                \"+\",\n",
    "                \".\" if feature in [\"transcript\", \"exon\"] else 0,\n",
    "                (\n",
    "                    f'gene_id \"{gene}\"; transcript_id \"{gene};\"'\n",
    "                    if feature == \"transcript\"\n",
    "                    else\n",
    "                    f'gene_id \"{gene}\"; transcript_id \"{gene}\"; exon_number \"1\"; exon_id \"{gene}\";'\n",
    "                )\n",
    "            )\n",
    "        )\n",
    "    add_gtf = pd.DataFrame.from_records(records, columns=gtf.columns)\n",
    "    \n",
    "    gtf = pd.concat([gtf.loc[: i - 1], add_gtf, gtf.loc[i: ]], ignore_index=True)\n",
    "\n",
    "gtf.to_csv(output_gtf, index=False, header=None, sep=\"\\t\", quoting=csv.QUOTE_NONE)"
   ]
  },
  {
   "cell_type": "code",
   "execution_count": null,
   "id": "69a897ef-034a-42bd-b6dd-2babc5b8cc1d",
   "metadata": {},
   "outputs": [],
   "source": []
  }
 ],
 "metadata": {
  "kernelspec": {
   "display_name": "Python 3 (ipykernel)",
   "language": "python",
   "name": "python3"
  },
  "language_info": {
   "codemirror_mode": {
    "name": "ipython",
    "version": 3
   },
   "file_extension": ".py",
   "mimetype": "text/x-python",
   "name": "python",
   "nbconvert_exporter": "python",
   "pygments_lexer": "ipython3",
   "version": "3.9.15"
  }
 },
 "nbformat": 4,
 "nbformat_minor": 5
}
