{
 "cells": [
  {
   "cell_type": "markdown",
   "id": "c8f3aff9-6ed0-4149-8258-bc6cb64790d2",
   "metadata": {},
   "source": [
    "# Analyze and plot correlations among fitness estimates and DMS measurements\n",
    "\n",
    "Import Python modules:"
   ]
  },
  {
   "cell_type": "code",
   "execution_count": null,
   "id": "fb480684-bbe7-47aa-89e9-83f229979036",
   "metadata": {},
   "outputs": [],
   "source": [
    "import altair as alt\n",
    "\n",
    "import numpy\n",
    "\n",
    "import pandas as pd\n",
    "\n",
    "import yaml"
   ]
  },
  {
   "cell_type": "markdown",
   "id": "bc538111-77d5-4aa1-a604-824e4e01c849",
   "metadata": {},
   "source": [
    "Now get variables from `snakemake`:"
   ]
  },
  {
   "cell_type": "code",
   "execution_count": null,
   "id": "860c335b-7f1c-44d4-80e8-b15023fae3bd",
   "metadata": {},
   "outputs": [],
   "source": [
    "if \"snakemake\" not in globals() and \"snakemake\" not in locals():\n",
    "    # variables set manually for interactive debugging\n",
    "    aa_fitness_csv = \"../results/aa_fitness/aa_fitness.csv\"\n",
    "    neher_fitness_csv = \"../data/Neher_aa_fitness.csv\"\n",
    "    plotsdir = \"../results/fitness_dms_corr/plots\"\n",
    "    \n",
    "    with open(\"../config.yaml\") as f:\n",
    "        config = yaml.safe_load(f)\n",
    "    min_expected_count = config[\"min_expected_count\"]\n",
    "    dms_datasets = config[\"dms_datasets\"]\n",
    "    \n",
    "    dms_datasets_csvs = {\n",
    "        dms_dataset: f\"../results/dms/{dms_dataset}/processed.csv\"\n",
    "        for dms_dataset in dms_datasets\n",
    "    }\n",
    "    \n",
    "else:\n",
    "    # get variables from `snakemake` when running pipeline\n",
    "    aa_fitness_csv = snakemake.input.aafitness\n",
    "    neher_fitness_csv = snakemake.input.neher_fitness\n",
    "    plotsdir = snakemake.output.plotsdir\n",
    "    min_expected_count = snakemake.params.min_expected_count\n",
    "    dms_datasets = snakemake.params.dms_datasets\n",
    "    dms_datasets_csvs = {\n",
    "        dms_dataset: getattr(snakemake.input, dms_dataset)\n",
    "        for dms_dataset in dms_datasets\n",
    "    }"
   ]
  },
  {
   "cell_type": "markdown",
   "id": "c93af7fd-66de-49e0-ad99-76a4ee83700c",
   "metadata": {},
   "source": [
    "Read the datasets:"
   ]
  },
  {
   "cell_type": "code",
   "execution_count": null,
   "id": "be4ea4a9-78f2-4e69-a4cc-d4cd8b971f2d",
   "metadata": {},
   "outputs": [],
   "source": [
    "aa_fitness = pd.read_csv(aa_fitness_csv)\n",
    "neher_fitness = pd.read_csv(neher_fitness_csv)\n",
    "dms_datasets = {\n",
    "    dms_dataset: pd.read_csv(f) for dms_dataset, f in dms_datasets_csvs.items()\n",
    "}"
   ]
  },
  {
   "cell_type": "markdown",
   "id": "844fe58a-ef72-44ae-9919-342b07a4f45c",
   "metadata": {},
   "source": [
    "First examining correlations between amino-acid fitness values from the current approach and the Neher estimates (which are just for spike).\n",
    "To do this, we have to get the estimates to share a common \"wildtype\" identity, which we choose as whatever is the Neher et al identity:"
   ]
  },
  {
   "cell_type": "code",
   "execution_count": null,
   "id": "f0644f4e-e8b8-4098-b749-d6029bf9188b",
   "metadata": {},
   "outputs": [],
   "source": [
    "spike_fitness = (\n",
    "    aa_fitness\n",
    "    .query(\"gene == 'S'\")\n",
    "    .rename(columns={\"aa_site\": \"site\"})\n",
    "    [[\"site\", \"aa\", \"fitness\", \"expected_count\"]]\n",
    ")\n",
    "\n",
    "neher_corr_df = (\n",
    "    neher_fitness\n",
    "    .query(\"aa_fitness.notnull()\")\n",
    "    .assign(\n",
    "        wildtype=lambda x: x[\"mutation\"].str[0],\n",
    "        site=lambda x: x[\"mutation\"].str[1: -1].astype(int),\n",
    "        mutant=lambda x: x[\"mutation\"].str[-1],\n",
    "    )\n",
    "    .rename(columns={\"aa_fitness\": \"Neher fitness effect\"})\n",
    "    [[\"wildtype\", \"site\", \"mutant\", \"Neher fitness effect\"]]\n",
    "    .merge(\n",
    "        spike_fitness.rename(\n",
    "            columns={\n",
    "                \"aa\": \"wildtype\",\n",
    "                \"fitness\": \"wt_fitness\",\n",
    "                \"expected_count\": \"expected_count_wt\",\n",
    "            }\n",
    "        ),\n",
    "        on=[\"site\", \"wildtype\"],\n",
    "        how=\"inner\",\n",
    "        validate=\"many_to_one\",\n",
    "    )\n",
    "    .merge(\n",
    "        spike_fitness.rename(\n",
    "            columns={\n",
    "                \"aa\": \"mutant\",\n",
    "                \"fitness\": \"mut_fitness\",\n",
    "                \"expected_count\": \"expected_count_mut\",\n",
    "            }\n",
    "        ),\n",
    "        on=[\"site\", \"mutant\"],\n",
    "        how=\"inner\",\n",
    "        validate=\"many_to_one\",\n",
    "    )\n",
    "    .assign(\n",
    "        expected_count=lambda x: numpy.minimum(\n",
    "            x[\"expected_count_wt\"], x[\"expected_count_mut\"],\n",
    "        ),\n",
    "        fitness_effect=lambda x: x[\"mut_fitness\"] - x[\"wt_fitness\"],\n",
    "        mutation=lambda x: x[\"wildtype\"] + x[\"site\"].astype(str) + x[\"mutant\"],\n",
    "    )\n",
    "    [[\"mutation\", \"fitness_effect\", \"Neher fitness effect\", \"expected_count\"]]\n",
    ")\n",
    "\n",
    "neher_corr_df"
   ]
  },
  {
   "cell_type": "code",
   "execution_count": null,
   "id": "237f760a-1d4c-4e53-866c-33e65887ccad",
   "metadata": {},
   "outputs": [],
   "source": [
    "(\n",
    "    neher_corr_df\n",
    "    .assign(n=lambda x: x.groupby([\"site\", \"mutant\"])[\"Neher fitness effect\"].transform(\"count\"))\n",
    "    .query(\"n > 1\")\n",
    "    .sort_values([\"site\", \"mutant\"])\n",
    ")"
   ]
  },
  {
   "cell_type": "code",
   "execution_count": null,
   "id": "6a804aea-c29c-4606-b24a-4f27d03cb3cd",
   "metadata": {},
   "outputs": [],
   "source": [
    "numpy.minimum([1, 2], [0, 3])"
   ]
  },
  {
   "cell_type": "code",
   "execution_count": null,
   "id": "27eb58f5-84f3-4b2a-8345-85a0562d83f6",
   "metadata": {},
   "outputs": [],
   "source": []
  }
 ],
 "metadata": {
  "kernelspec": {
   "display_name": "Python 3 (ipykernel)",
   "language": "python",
   "name": "python3"
  },
  "language_info": {
   "codemirror_mode": {
    "name": "ipython",
    "version": 3
   },
   "file_extension": ".py",
   "mimetype": "text/x-python",
   "name": "python",
   "nbconvert_exporter": "python",
   "pygments_lexer": "ipython3",
   "version": "3.9.15"
  }
 },
 "nbformat": 4,
 "nbformat_minor": 5
}
