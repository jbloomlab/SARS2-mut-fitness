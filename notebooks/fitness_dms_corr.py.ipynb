{
 "cells": [
  {
   "cell_type": "markdown",
   "id": "c8f3aff9-6ed0-4149-8258-bc6cb64790d2",
   "metadata": {},
   "source": [
    "# Analyze and plot correlations among fitness estimates and DMS measurements\n",
    "\n",
    "Import Python modules:"
   ]
  },
  {
   "cell_type": "code",
   "execution_count": 1,
   "id": "fb480684-bbe7-47aa-89e9-83f229979036",
   "metadata": {},
   "outputs": [],
   "source": [
    "import altair as alt\n",
    "\n",
    "import pandas as pd\n",
    "\n",
    "import yaml"
   ]
  },
  {
   "cell_type": "markdown",
   "id": "bc538111-77d5-4aa1-a604-824e4e01c849",
   "metadata": {},
   "source": [
    "Now get variables from `snakemake`:"
   ]
  },
  {
   "cell_type": "code",
   "execution_count": null,
   "id": "860c335b-7f1c-44d4-80e8-b15023fae3bd",
   "metadata": {},
   "outputs": [],
   "source": [
    "if \"snakemake\" not in globals() and \"snakemake\" not in locals:\n",
    "    # variables set manually for interactive debugging\n",
    "    aa_fitness_csv = \"../results/aa_fitness/aa_fitness_csv\"\n",
    "    neher_fitness_tsv = \"../data/Neher_aa_fitness.tsv\"\n",
    "    plotsdir = \"../results/fitness_dms_corr/plots\"\n",
    "    \n",
    "    import yaml\n",
    "    with open(\"../config.yaml\") as f:\n",
    "        config = yaml.safe_load(f)\n",
    "    min_expected_count = config[\"min_expected_count\"]\n",
    "    dms_datasets = config[\"dms_datasets\"]\n",
    "    \n",
    "    dms_datasets_csvs = {\n",
    "        f\"../results/dms/{dms_dataset}/processed.csv\"\n",
    "        for dms_dataset in dms_datasets\n",
    "    }\n",
    "    \n",
    "else:\n",
    "    # get variables from `snakemake` when running pipeline\n",
    "    aa_fitness_csv = snakemake.input.aafitness\n",
    "    neher_fitness_tsv = snakemake.input.neher_fitness\n",
    "    plotsdir = snakemake.output.plotsdir\n",
    "    min_expected_count = snakemake.params.min_expected_count\n",
    "    dms_datasets = snakemake.params.dms_datasets\n",
    "    dms_datasets_csvs = {\n",
    "        getattr(snakemake.input, dms_dataset)\n",
    "        for dms_dataset in dms_datasets\n",
    "    }"
   ]
  }
 ],
 "metadata": {
  "kernelspec": {
   "display_name": "Python 3 (ipykernel)",
   "language": "python",
   "name": "python3"
  },
  "language_info": {
   "codemirror_mode": {
    "name": "ipython",
    "version": 3
   },
   "file_extension": ".py",
   "mimetype": "text/x-python",
   "name": "python",
   "nbconvert_exporter": "python",
   "pygments_lexer": "ipython3",
   "version": "3.9.15"
  }
 },
 "nbformat": 4,
 "nbformat_minor": 5
}
