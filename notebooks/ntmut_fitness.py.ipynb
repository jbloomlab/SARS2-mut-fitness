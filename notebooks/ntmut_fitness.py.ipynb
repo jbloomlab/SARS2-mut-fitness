{
 "cells": [
  {
   "cell_type": "markdown",
   "id": "9512ae99-8b58-4838-b799-cb969838797f",
   "metadata": {},
   "source": [
    "# Calculate fitness effects of nucleotide mutations from expected versus actual counts\n",
    "\n",
    "Get values from `snakemake`:"
   ]
  },
  {
   "cell_type": "code",
   "execution_count": null,
   "id": "f029c9a4-0cef-43f0-9e07-4322ede4a689",
   "metadata": {
    "tags": []
   },
   "outputs": [],
   "source": [
    "if \"snakemake\" in locals() or \"snakemake\" in globals():\n",
    "    # running in `snakemake` pipeline\n",
    "    fitness_pseudocount = snakemake.params.fitness_pseudocount\n",
    "    expected_vs_actual_counts_csv = snakemake.input.csv\n",
    "    output_ntmut_all = snakemake.output.ntmut_all\n",
    "    output_ntmut_by_clade = snakemake.output.ntmut_by_clade\n",
    "    output_ntmut_by_subset = snakemake.output.ntmut_by_subset\n",
    "else:\n",
    "    # running interactively for development\n",
    "    fitness_pseudocount = 0.5\n",
    "    expected_vs_actual_counts_csv = \"../results_public_2022-12-18/expected_vs_actual_mut_counts/expected_vs_actual_mut_counts.csv\"\n",
    "    output_ntmut_all = \"../_temp/ntmut_fitness_all.csv\"\n",
    "    output_ntmut_by_clade = \"../_temp/ntmut_fitness_by_clade.csv\"\n",
    "    output_ntmut_by_subset = \"../_temp/ntmut_fitness_by_subset.csv\""
   ]
  },
  {
   "cell_type": "markdown",
   "id": "13aa62a9-7561-4379-9961-21ad2ee8c7cf",
   "metadata": {
    "execution": {
     "iopub.execute_input": "2022-11-20T14:51:24.454725Z",
     "iopub.status.busy": "2022-11-20T14:51:24.453944Z",
     "iopub.status.idle": "2022-11-20T14:51:24.471166Z",
     "shell.execute_reply": "2022-11-20T14:51:24.470535Z",
     "shell.execute_reply.started": "2022-11-20T14:51:24.454654Z"
    }
   },
   "source": [
    "Import Python modules:"
   ]
  },
  {
   "cell_type": "code",
   "execution_count": null,
   "id": "2585fd16-4114-410d-b1bf-f72454a0f23f",
   "metadata": {
    "tags": []
   },
   "outputs": [],
   "source": [
    "import numpy\n",
    "\n",
    "import pandas as pd"
   ]
  },
  {
   "cell_type": "markdown",
   "id": "08ee1587-b8f5-4f34-a5e7-8c7c1f3c6c67",
   "metadata": {},
   "source": [
    "Read data, then:\n",
    " - Ignore any nucleotides masked in `UShER`\n",
    " - Ignore excluded mutations"
   ]
  },
  {
   "cell_type": "code",
   "execution_count": null,
   "id": "50ede363-80d3-44fb-98f3-732b8b4df779",
   "metadata": {
    "tags": []
   },
   "outputs": [],
   "source": [
    "expected_vs_actual = (\n",
    "    pd.read_csv(expected_vs_actual_counts_csv, low_memory=False)\n",
    "    .query(\"not masked_in_usher\")\n",
    "    .query(\"not exclude\")\n",
    "    .drop(\n",
    "        columns=\n",
    "            [\n",
    "                \"exclude\",\n",
    "                \"masked_in_usher\",\n",
    "                \"clade_founder_nt\",\n",
    "                \"clade_founder_codon\",\n",
    "                \"clade_founder_aa\",\n",
    "                \"mutant_codon\",\n",
    "                \"mutant_aa\",\n",
    "                \"codon_position\",\n",
    "                \"codon_site\",\n",
    "                \"aa_mutation\",\n",
    "            ],\n",
    "    )\n",
    ")\n",
    "\n",
    "assert len(expected_vs_actual) == len(expected_vs_actual.groupby([\"nt_mutation\", \"clade\", \"subset\"]))"
   ]
  },
  {
   "cell_type": "markdown",
   "id": "4d696004-7462-492d-8511-3623dbf15829",
   "metadata": {
    "execution": {
     "iopub.execute_input": "2022-11-20T16:26:38.905683Z",
     "iopub.status.busy": "2022-11-20T16:26:38.905321Z",
     "iopub.status.idle": "2022-11-20T16:26:42.756297Z",
     "shell.execute_reply": "2022-11-20T16:26:42.755413Z",
     "shell.execute_reply.started": "2022-11-20T16:26:38.905662Z"
    },
    "tags": []
   },
   "source": [
    "Now for each subset, compute fitness as log expected / actual (after adding pseudocount) and write to a file:"
   ]
  },
  {
   "cell_type": "code",
   "execution_count": null,
   "id": "fda69755-eb2c-4ccf-a6e1-41dc410d4f50",
   "metadata": {
    "tags": []
   },
   "outputs": [],
   "source": [
    "for by_clade, by_subset, outfile in [\n",
    "    (False, False, output_ntmut_all),\n",
    "    (True, False, output_ntmut_by_clade),\n",
    "    (False, True, output_ntmut_by_subset),\n",
    "]:\n",
    "    df = expected_vs_actual\n",
    "    if not by_clade:\n",
    "        assert \"all\" not in df[\"clade\"].unique()\n",
    "        df = (\n",
    "            df\n",
    "            .assign(\n",
    "                weighted_mean_log_size=lambda x: x[\"mean_log_size\"] * x[\"actual_count\"],\n",
    "            )\n",
    "            .drop(columns=\"mean_log_size\")\n",
    "            .groupby(\n",
    "                [\n",
    "                    c for c in df.columns\n",
    "                    if c not in {\n",
    "                        \"clade\",\n",
    "                        \"expected_count\",\n",
    "                        \"actual_count\",\n",
    "                        \"count_terminal\",\n",
    "                        \"count_non_terminal\",\n",
    "                        \"mean_log_size\",\n",
    "                        \"weighted_mean_log_size\",\n",
    "                        \"synonymous\",\n",
    "                        \"four_fold_degenerate\",\n",
    "                    }\n",
    "                ],\n",
    "                as_index=False,\n",
    "            )\n",
    "            .aggregate(\n",
    "                {\n",
    "                    \"synonymous\": \"all\",\n",
    "                    \"four_fold_degenerate\": \"all\",\n",
    "                    \"expected_count\": \"sum\",\n",
    "                    \"actual_count\": \"sum\",\n",
    "                    \"count_terminal\": \"sum\",\n",
    "                    \"count_non_terminal\": \"sum\",\n",
    "                    \"weighted_mean_log_size\": \"sum\",\n",
    "                }\n",
    "            )\n",
    "            .assign(\n",
    "                mean_log_size=lambda x: numpy.where(\n",
    "                    x[\"actual_count\"] > 0,\n",
    "                    x[\"weighted_mean_log_size\"] / x[\"actual_count\"],\n",
    "                    0,\n",
    "                ),\n",
    "            )\n",
    "            .drop(columns=\"weighted_mean_log_size\")\n",
    "        )\n",
    "\n",
    "    if not by_subset:\n",
    "        df = df.query(\"subset == 'all'\").drop(columns=\"subset\")\n",
    "    \n",
    "    df[\"delta_fitness\"] = numpy.log(\n",
    "        (df[\"actual_count\"] + fitness_pseudocount)\n",
    "        / (df[\"expected_count\"] + fitness_pseudocount)\n",
    "    )\n",
    "    \n",
    "    n_groups = len(df.groupby([c for c in [\"nt_mutation\", \"clade\", \"subset\"] if c in df.columns]))\n",
    "    assert len(df) == n_groups, f\"{len(df)=}, {n_groups=}\"\n",
    "\n",
    "    df.to_csv(outfile, index=False, float_format=\"%.5g\")"
   ]
  }
 ],
 "metadata": {
  "kernelspec": {
   "display_name": "Python 3 (ipykernel)",
   "language": "python",
   "name": "python3"
  },
  "language_info": {
   "codemirror_mode": {
    "name": "ipython",
    "version": 3
   },
   "file_extension": ".py",
   "mimetype": "text/x-python",
   "name": "python",
   "nbconvert_exporter": "python",
   "pygments_lexer": "ipython3",
   "version": "3.9.15"
  }
 },
 "nbformat": 4,
 "nbformat_minor": 5
}
