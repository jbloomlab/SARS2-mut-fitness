{
 "cells": [
  {
   "cell_type": "markdown",
   "id": "2fe25e19-bdfa-47cc-a88e-1a6b8730bce9",
   "metadata": {},
   "source": [
    "# Analyze comparator studies versus fitness estimates and deep mutational scanning for spike"
   ]
  },
  {
   "cell_type": "code",
   "execution_count": null,
   "id": "7b91b627-e2dc-40e4-809e-a710fb027642",
   "metadata": {},
   "outputs": [],
   "source": [
    "\n",
    "######## snakemake preamble start (automatically inserted, do not edit) ########\n",
    "import sys; sys.path.extend(['/fh/fast/bloom_j/software/miniconda3/envs/SARS2-mut-fitness/lib/python3.9/site-packages', '/home/jbloom/.cache/snakemake/snakemake/source-cache/runtime-cache/tmp8hhv_h_m/file/fh/fast/bloom_j/computational_notebooks/jbloom/2023/SARS2-mut-fitness/notebooks', '/fh/fast/bloom_j/computational_notebooks/jbloom/2023/SARS2-mut-fitness/notebooks']); import pickle; snakemake = pickle.loads(b'\\x80\\x04\\x95f\\x1a\\x00\\x00\\x00\\x00\\x00\\x00\\x8c\\x10snakemake.script\\x94\\x8c\\tSnakemake\\x94\\x93\\x94)\\x81\\x94}\\x94(\\x8c\\x05input\\x94\\x8c\\x0csnakemake.io\\x94\\x8c\\nInputFiles\\x94\\x93\\x94)\\x81\\x94(\\x8c3results_public_2023-05-11/aa_fitness/aa_fitness.csv\\x94\\x8c/data/comparator_studies/rodriguez_rivas_dca.csv\\x94\\x8c)data/comparator_studies/maher_drivers.csv\\x94\\x8c,data/comparator_studies/thadani_learning.csv\\x94\\x8c?results_public_2023-05-11/dms/dadonaite_ba1_spike/processed.csv\\x94\\x8c5results_public_2023-05-11/dms/starr_rbd/processed.csv\\x94\\x8c8results_public_2023-05-11/dms/iketani_mpro/processed.csv\\x94\\x8c;results_public_2023-05-11/dms/flynn_mpro_2022/processed.csv\\x94\\x8c;results_public_2023-05-11/dms/flynn_mpro_2023/processed.csv\\x94e}\\x94(\\x8c\\x06_names\\x94}\\x94(\\x8c\\naa_fitness\\x94K\\x00N\\x86\\x94\\x8c\\x13rodriguez_rivas_dca\\x94K\\x01N\\x86\\x94\\x8c\\rmaher_drivers\\x94K\\x02N\\x86\\x94\\x8c\\x10thadani_learning\\x94K\\x03N\\x86\\x94\\x8c\\x13dadonaite_ba1_spike\\x94K\\x04N\\x86\\x94\\x8c\\tstarr_rbd\\x94K\\x05N\\x86\\x94\\x8c\\x0ciketani_mpro\\x94K\\x06N\\x86\\x94\\x8c\\x0fflynn_mpro_2022\\x94K\\x07N\\x86\\x94\\x8c\\x0fflynn_mpro_2023\\x94K\\x08N\\x86\\x94u\\x8c\\x12_allowed_overrides\\x94]\\x94(\\x8c\\x05index\\x94\\x8c\\x04sort\\x94eh*\\x8c\\tfunctools\\x94\\x8c\\x07partial\\x94\\x93\\x94h\\x06\\x8c\\x19Namedlist._used_attribute\\x94\\x93\\x94\\x85\\x94R\\x94(h0)}\\x94\\x8c\\x05_name\\x94h*sNt\\x94bh+h.h0\\x85\\x94R\\x94(h0)}\\x94h4h+sNt\\x94bh\\x16h\\nh\\x18h\\x0bh\\x1ah\\x0ch\\x1ch\\rh\\x1eh\\x0eh h\\x0fh\"h\\x10h$h\\x11h&h\\x12ub\\x8c\\x06output\\x94h\\x06\\x8c\\x0bOutputFiles\\x94\\x93\\x94)\\x81\\x94\\x8cAresults_public_2023-05-11/comparator_studies/comparator_corr.html\\x94a}\\x94(h\\x14}\\x94\\x8c\\tcorr_html\\x94K\\x00N\\x86\\x94sh(]\\x94(h*h+eh*h.h0\\x85\\x94R\\x94(h0)}\\x94h4h*sNt\\x94bh+h.h0\\x85\\x94R\\x94(h0)}\\x94h4h+sNt\\x94bhAh>ub\\x8c\\x06params\\x94h\\x06\\x8c\\x06Params\\x94\\x93\\x94)\\x81\\x94(K\\n}\\x94(h\\x1e}\\x94(\\x8c\\x05study\\x94\\x8c;https://www.biorxiv.org/content/10.1101/2022.10.13.512056v1\\x94\\x8c\\x0bdescription\\x94\\x8c\\x1dspike (Dadonaite et al, 2022)\\x94\\x8c\\x04gene\\x94\\x8c\\x01S\\x94\\x8c\\x03url\\x94\\x8c\\x8bhttps://raw.githubusercontent.com/dms-vep/SARS-CoV-2_Omicron_BA.1_spike_DMS_mAbs/main/results/muteffects_functional/muteffects_observed.csv\\x94\\x8c\\x0bfilter_cols\\x94}\\x94\\x8c\\ntimes_seen\\x94K\\x03suh }\\x94(\\x8c\\x05study\\x94\\x8cOhttps://journals.plos.org/plospathogens/article?id=10.1371/journal.ppat.1010951\\x94\\x8c\\x0bdescription\\x94\\x8c\\x17RBD (Starr et al, 2022)\\x94\\x8c\\x04gene\\x94hW\\x8c\\x03url\\x94\\x8c\\xadhttps://media.githubusercontent.com/media/jbloomlab/SARS-CoV-2-RBD_DMS_Omicron/f76ba2b2bec18ede9fa9da18c9ccc52389b1ba3a/results/final_variant_scores/final_variant_scores.csv\\x94uh\"}\\x94(\\x8c\\x05study\\x94\\x8cChttps://www.sciencedirect.com/science/article/pii/S1931312822004024\\x94\\x8c\\x0bdescription\\x94\\x8c\\x1aMpro (Iketani et al, 2022)\\x94\\x8c\\x04gene\\x94\\x8c\\x0bnsp5 (Mpro)\\x94\\x8c\\x03url\\x94\\x8c\\xachttps://raw.githubusercontent.com/alejandrochavezlab/3CL_protease_DMS/dc802ee3ea9d43005ca97a28af078767fd66777c/outputs/results/normalized_to_wt_and_stop/activity_scores.csv\\x94\\x8c\\x06wt_seq\\x94\\x8c\\x0cdata/Mpro.fa\\x94uh$}\\x94(\\x8c\\x05study\\x94\\x8c(https://elifesciences.org/articles/77433\\x94\\x8c\\x0bdescription\\x94\\x8c\\x18Mpro (Flynn et al, 2022)\\x94\\x8c\\x04gene\\x94\\x8c\\x0bnsp5 (Mpro)\\x94\\x8c\\x03url\\x94\\x8cKhttps://cdn.elifesciences.org/articles/77433/elife-77433-fig2-data1-v2.xlsx\\x94\\x8c\\x06wt_seq\\x94\\x8c\\x0cdata/Mpro.fa\\x94uh&}\\x94(\\x8c\\x05study\\x94\\x8c)https://doi.org/10.1101/2023.03.02.530652\\x94\\x8c\\x0bdescription\\x94\\x8c\\x18Mpro (Flynn et al, 2023)\\x94\\x8c\\x04gene\\x94\\x8c\\x0bnsp5 (Mpro)\\x94\\x8c\\x03url\\x94\\x8cahttps://www.biorxiv.org/content/biorxiv/early/2023/03/02/2023.03.02.530652/DC1/embed/media-1.xlsx\\x94uu}\\x94(h\\x18}\\x94(\\x8c\\x04data\\x94\\x8c_https://raw.githubusercontent.com/GiancarloCroce/DCA_SARS-CoV-2/main/data/data_dca_proteome.csv\\x94\\x8c\\x04name\\x94\\x8c\\x1cRodriguez-Rivas et al (2022)\\x94uh\\x1a}\\x94(\\x8c\\x04data\\x94\\x8c>https://www.science.org/doi/suppl/10.1126/scitranslmed.abk3445\\x94\\x8c\\x04name\\x94\\x8c\\x12Maher et al (2022)\\x94uh\\x1c}\\x94(\\x8c\\x04data\\x94\\x8c`https://www.biorxiv.org/content/biorxiv/early/2023/04/12/2022.07.21.501023/DC4/embed/media-4.zip\\x94\\x8c\\x04name\\x94\\x8c\\x14Thadani et al (2023)\\x94uue}\\x94(h\\x14}\\x94(\\x8c\\x12min_expected_count\\x94K\\x00N\\x86\\x94\\x8c\\x0cdms_datasets\\x94K\\x01N\\x86\\x94\\x8c\\x12comparator_studies\\x94K\\x02N\\x86\\x94uh(]\\x94(h*h+eh*h.h0\\x85\\x94R\\x94(h0)}\\x94h4h*sNt\\x94bh+h.h0\\x85\\x94R\\x94(h0)}\\x94h4h+sNt\\x94bh\\x96K\\nh\\x98hPh\\x9ah\\x84ub\\x8c\\twildcards\\x94h\\x06\\x8c\\tWildcards\\x94\\x93\\x94)\\x81\\x94\\x8c\\x11public_2023-05-11\\x94a}\\x94(h\\x14}\\x94\\x8c\\x03mat\\x94K\\x00N\\x86\\x94sh(]\\x94(h*h+eh*h.h0\\x85\\x94R\\x94(h0)}\\x94h4h*sNt\\x94bh+h.h0\\x85\\x94R\\x94(h0)}\\x94h4h+sNt\\x94b\\x8c\\x03mat\\x94h\\xa9ub\\x8c\\x07threads\\x94K\\x01\\x8c\\tresources\\x94h\\x06\\x8c\\tResources\\x94\\x93\\x94)\\x81\\x94(K\\x01K\\x01\\x8c\\x04/tmp\\x94e}\\x94(h\\x14}\\x94(\\x8c\\x06_cores\\x94K\\x00N\\x86\\x94\\x8c\\x06_nodes\\x94K\\x01N\\x86\\x94\\x8c\\x06tmpdir\\x94K\\x02N\\x86\\x94uh(]\\x94(h*h+eh*h.h0\\x85\\x94R\\x94(h0)}\\x94h4h*sNt\\x94bh+h.h0\\x85\\x94R\\x94(h0)}\\x94h4h+sNt\\x94bh\\xc0K\\x01h\\xc2K\\x01h\\xc4h\\xbdub\\x8c\\x03log\\x94h\\x06\\x8c\\x03Log\\x94\\x93\\x94)\\x81\\x94\\x8cMresults_public_2023-05-11/comparator_studies/analyze_comparator_studies.ipynb\\x94a}\\x94(h\\x14}\\x94\\x8c\\x08notebook\\x94K\\x00N\\x86\\x94sh(]\\x94(h*h+eh*h.h0\\x85\\x94R\\x94(h0)}\\x94h4h*sNt\\x94bh+h.h0\\x85\\x94R\\x94(h0)}\\x94h4h+sNt\\x94bh\\xd6h\\xd3ub\\x8c\\x06config\\x94}\\x94(\\x8c\\tmat_trees\\x94}\\x94(\\x8c\\x11public_2023-05-11\\x94\\x8c\\x83http://hgdownload.soe.ucsc.edu/goldenPath/wuhCor1/UShER_SARS-CoV-2/2023/05/11/public-2023-05-11.all.masked.nextclade.pangolin.pb.gz\\x94\\x8c\\x11public_2023-03-27\\x94\\x8c\\x83http://hgdownload.soe.ucsc.edu/goldenPath/wuhCor1/UShER_SARS-CoV-2/2023/03/27/public-2023-03-27.all.masked.nextclade.pangolin.pb.gz\\x94\\x8c\\x11public_2022-12-18\\x94\\x8c\\x83http://hgdownload.soe.ucsc.edu/goldenPath/wuhCor1/UShER_SARS-CoV-2/2022/12/18/public-2022-12-18.all.masked.nextclade.pangolin.pb.gz\\x94\\x8c\\x11gisaid_2023-03-29\\x94\\x8cQhttps://hgwdev.gi.ucsc.edu/~angie/2847b92/gisaidAndPublic.2023-03-29.masked.pb.gz\\x94u\\x8c\\x0bcurrent_mat\\x94\\x8c\\x11public_2023-05-11\\x94\\x8c\\tref_fasta\\x94\\x8cGhttp://hgdownload.soe.ucsc.edu/goldenPath/wuhCor1/bigZips/wuhCor1.fa.gz\\x94\\x8c\\x07ref_gtf\\x94\\x8cPhttp://hgdownload.soe.ucsc.edu/goldenPath/wuhCor1/bigZips/genes/ncbiGenes.gtf.gz\\x94\\x8c\\x0eadd_to_ref_gtf\\x94}\\x94\\x8c\\x05ORF9b\\x94]\\x94(M|nM\\xa1oes\\x8c\\x11min_clade_samples\\x94M\\x10\\'\\x8c\\x0esample_subsets\\x94}\\x94(\\x8c\\x03all\\x94\\x8c\\x01.\\x94\\x8c\\x03USA\\x94\\x8c\\x03USA\\x94\\x8c\\x07England\\x94\\x8c\\x07England\\x94u\\x8c\\x12clade_founder_json\\x94\\x8cyhttps://raw.githubusercontent.com/neherlab/SC2_variant_rates/7e738194a8c6592082f1caa9a6ca70cb68289790/data/clade_gts.json\\x94\\x8c\\x11clades_to_exclude\\x94]\\x94\\x8c\\x0321A\\x94a\\x8c\\x10max_nt_mutations\\x94K\\x04\\x8c\\x15max_reversions_to_ref\\x94K\\x01\\x8c\\x1fmax_reversions_to_clade_founder\\x94K\\x01\\x8c\\x1bexclude_ref_to_founder_muts\\x94\\x88\\x8c\\x12site_include_range\\x94}\\x94(\\x8c\\x05start\\x94M\\n\\x01\\x8c\\x03end\\x94M\\xeasu\\x8c\\x10sites_to_exclude\\x94]\\x94(K\\x99M}\\x04M\\x96\\x08MI\\x0cM\\xec\\rM\\xc2\\x0eM\\xd2\\x0fMo\\x18MV\\x1fMV\"MZ4M{6M\\x12YME_MF_MeaM\\xfd\\x15M\\xc3\\x1aM\\xa0\\x1cM\\xbfmM\\xb2re\\x8c\\rsite_mask_vcf\\x94\\x8cvhttps://raw.githubusercontent.com/W-L/ProblematicSites_SARS-CoV2/master/subset_vcf/problematic_sites_sarsCov2.mask.vcf\\x94\\x8c\\x12usher_masked_sites\\x94\\x8c\\x1cdata/usher_masked_sites.yaml\\x94\\x8c\\x1dsynonymous_spectra_min_counts\\x94M\\x88\\x13\\x8c\\x0eorf1ab_to_nsps\\x94}\\x94(\\x8c\\x04nsp1\\x94]\\x94(K\\x01K\\xb4e\\x8c\\x04nsp2\\x94]\\x94(K\\xb5M2\\x03e\\x8c\\x04nsp3\\x94]\\x94(M3\\x03M\\xcb\\ne\\x8c\\x04nsp4\\x94]\\x94(M\\xcc\\nM\\xbf\\x0ce\\x8c\\x0bnsp5 (Mpro)\\x94]\\x94(M\\xc0\\x0cM\\xf1\\re\\x8c\\x04nsp6\\x94]\\x94(M\\xf2\\rM\\x13\\x0fe\\x8c\\x04nsp7\\x94]\\x94(M\\x14\\x0fMf\\x0fe\\x8c\\x04nsp8\\x94]\\x94(Mg\\x0fM,\\x10e\\x8c\\x04nsp9\\x94]\\x94(M-\\x10M\\x9d\\x10e\\x8c\\x05nsp10\\x94]\\x94(M\\x9e\\x10M(\\x11e\\x8c\\x0cnsp12 (RdRp)\\x94]\\x94(M)\\x11M\\xcc\\x14e\\x8c\\x05nsp13\\x94]\\x94(M\\xcd\\x14M%\\x17e\\x8c\\x05nsp14\\x94]\\x94(M&\\x17M4\\x19e\\x8c\\x05nsp15\\x94]\\x94(M5\\x19M\\x8e\\x1ae\\x8c\\x05nsp16\\x94]\\x94(M\\x8f\\x1aM\\xb8\\x1beu\\x8c\\rgene_overlaps\\x94}\\x94(\\x8c\\x07exclude\\x94]\\x94(]\\x94(\\x8c\\x05ORF1a\\x94\\x8c\\x06ORF1ab\\x94e]\\x94(\\x8c\\x05ORF7a\\x94\\x8c\\x05ORF7b\\x94ee\\x8c\\x06retain\\x94]\\x94]\\x94(\\x8c\\x01N\\x94\\x8c\\x05ORF9b\\x94eau\\x8c\\x13fitness_pseudocount\\x94G?\\xe0\\x00\\x00\\x00\\x00\\x00\\x00\\x8c\\x12min_expected_count\\x94K\\n\\x8c\\x14clade_corr_min_count\\x94J \\xa1\\x07\\x00\\x8c\\x19aa_fitness_init_ref_clade\\x94\\x8c\\x0319A\\x94\\x8c!aa_fitness_heatmap_minimal_domain\\x94]\\x94(J\\xfa\\xff\\xff\\xffK\\x02e\\x8c\\x0eclade_synonyms\\x94}\\x94(\\x8c\\x0319A\\x94\\x8c\\x01B\\x94\\x8c\\x0320A\\x94\\x8c\\x03B.1\\x94\\x8c\\x0320B\\x94\\x8c\\x05B.1.1\\x94\\x8c\\x0320C\\x94\\x8c\\x07B.1.367\\x94\\x8c\\x0320E\\x94\\x8c\\x07B.1.177\\x94\\x8c\\x0320F\\x94\\x8c\\x03D.2\\x94\\x8c\\x0320G\\x94\\x8c\\x05B.1.2\\x94\\x8c\\x0320I\\x94\\x8c\\x05Alpha\\x94\\x8c\\x0320J\\x94\\x8c\\x05Gamma\\x94\\x8c\\x0321C\\x94\\x8c\\x07Epsilon\\x94\\x8c\\x0321F\\x94\\x8c\\x04Iota\\x94\\x8c\\x0321I\\x94\\x8c\\x05Delta\\x94\\x8c\\x0321J\\x94\\x8c\\x05Delta\\x94\\x8c\\x0321K\\x94\\x8c\\x0cOmicron BA.1\\x94\\x8c\\x0321L\\x94\\x8c\\x0cOmicron BA.2\\x94\\x8c\\x0322A\\x94\\x8c\\x0cOmicron BA.4\\x94\\x8c\\x0322B\\x94\\x8c\\x0cOmicron BA.5\\x94\\x8c\\x0322C\\x94\\x8c\\x11Omicron BA.2.12.1\\x94\\x8c\\x0322D\\x94\\x8c\\x0fOmicron BA.2.75\\x94\\x8c\\x0322E\\x94\\x8c\\x0cOmicron BQ.1\\x94u\\x8c\\x0cdms_datasets\\x94hP\\x8c\\rneher_fitness\\x94\\x8c\\x19data/Neher_aa_fitness.csv\\x94\\x8c\\x14clade_fixed_muts_ref\\x94\\x8c\\x0319A\\x94\\x8c\\x14terminal_pseudocount\\x94G?\\xe0\\x00\\x00\\x00\\x00\\x00\\x00\\x8c\\x19terminal_min_actual_count\\x94K\\x05\\x8c\\x04dnds\\x94\\x8c^https://raw.githubusercontent.com/spond/SARS-CoV-2-variation/master/windowed-sites-fel-all.csv\\x94\\x8c\\x12comparator_studies\\x94h\\x84\\x8c\\x08docs_url\\x94\\x8c-https://jbloomlab.github.io/SARS2-mut-fitness\\x94\\x8c\\x15docs_plot_annotations\\x94\\x8c\\x1fdata/docs_plot_annotations.yaml\\x94u\\x8c\\x04rule\\x94\\x8c\\x1aanalyze_comparator_studies\\x94\\x8c\\x0fbench_iteration\\x94N\\x8c\\tscriptdir\\x94\\x8cP/fh/fast/bloom_j/computational_notebooks/jbloom/2023/SARS2-mut-fitness/notebooks\\x94ub.'); from snakemake.logging import logger; logger.printshellcmds = False; import os; os.chdir(r'/fh/fast/bloom_j/computational_notebooks/jbloom/2023/SARS2-mut-fitness');\n",
    "######## snakemake preamble end #########\n"
   ]
  },
  {
   "cell_type": "code",
   "execution_count": null,
   "id": "bf1d9c69-175a-4c98-a584-96666ccaf301",
   "metadata": {
    "tags": []
   },
   "outputs": [],
   "source": [
    "import altair as alt\n",
    "\n",
    "import numpy\n",
    "\n",
    "import pandas as pd\n",
    "\n",
    "import scipy.stats.mstats"
   ]
  },
  {
   "cell_type": "code",
   "execution_count": null,
   "id": "2793260f-6dd8-498a-b892-bb36a5330d3b",
   "metadata": {
    "tags": []
   },
   "outputs": [],
   "source": [
    "# get variables from `snakemake`\n",
    "aa_fitness_csv = snakemake.input.aa_fitness\n",
    "corr_html = snakemake.output.corr_html\n",
    "min_expected_count = snakemake.params.min_expected_count\n",
    "comparator_studies = snakemake.params.comparator_studies\n",
    "\n",
    "# get DMS datasets with added entry for data\n",
    "dms_datasets = snakemake.params.dms_datasets\n",
    "for dataset in dms_datasets:\n",
    "    dms_datasets[dataset][\"data\"] = pd.read_csv(getattr(snakemake.input, dataset))"
   ]
  },
  {
   "cell_type": "markdown",
   "id": "d4ea92fe-918f-4e4b-a735-910e80ea0143",
   "metadata": {},
   "source": [
    "Read data from comparator studies:"
   ]
  },
  {
   "cell_type": "code",
   "execution_count": null,
   "id": "7c80fddf-8cab-4096-b2d4-ba455da7305e",
   "metadata": {
    "tags": []
   },
   "outputs": [],
   "source": [
    "for study, study_d in comparator_studies.items():\n",
    "    \n",
    "    datafile = getattr(snakemake.input, study)\n",
    "    print(f\"Reading data from {datafile}\")\n",
    "    \n",
    "    if study == \"rodriguez_rivas_dca\":\n",
    "        comparator_studies[study][\"df\"] = (\n",
    "            pd.read_csv(datafile)\n",
    "            .rename(\n",
    "                columns={\n",
    "                    \"position_protein\": \"site\",\n",
    "                    \"mutability_score(DCA)\": \"DCA mutability score\",\n",
    "                }\n",
    "            )\n",
    "            .query(\"protein == 'Spike'\")\n",
    "            .assign(gene=\"S\")\n",
    "            [[\"gene\", \"site\", \"DCA mutability score\"]]\n",
    "            .query(\"`DCA mutability score`.notnull()\")\n",
    "            .reset_index(drop=True)\n",
    "        )   \n",
    "        \n",
    "    elif study == \"maher_drivers\":\n",
    "        comparator_studies[study][\"df\"] = (\n",
    "            pd.read_csv(\"data/comparator_studies/maher_drivers.csv\")\n",
    "            .assign(\n",
    "                gene=lambda x: x[\"Unnamed: 0\"].str.split(\"_\").str[0],\n",
    "                mutation=lambda x: x[\"Unnamed: 0\"].str.split(\"_\", 1).str[1],\n",
    "            )\n",
    "            .query(\"gene == 'Spike'\")\n",
    "            .assign(gene=\"S\")\n",
    "            .query(\"mutation.str.fullmatch('[A-Z]\\d+[A-Z]')\")\n",
    "            .assign(\n",
    "                wildtype=lambda x: x[\"mutation\"].str[0],\n",
    "                site=lambda x: x[\"mutation\"].str[1: -1].astype(int),\n",
    "                aa=lambda x: x[\"mutation\"].str[-1],\n",
    "            )\n",
    "            .rename(columns={\"EpiScore_AllLineages\": \"EpiScore\"})\n",
    "            [[\"gene\", \"site\", \"aa\", \"EpiScore\"]]\n",
    "            .reset_index(drop=True)\n",
    "        )\n",
    "        \n",
    "    elif study == \"thadani_learning\":\n",
    "        comparator_studies[study][\"df\"] = (\n",
    "            pd.read_csv(\"data/comparator_studies/thadani_learning.csv\")\n",
    "            .rename(columns={\"i\": \"site\", \"mut\": \"aa\", \"eve\": \"EVE score\"})\n",
    "            .assign(gene=\"S\")\n",
    "            [[\"gene\", \"site\", \"aa\", \"EVE score\"]]\n",
    "    \n",
    "        )\n",
    "\n",
    "    else:\n",
    "        raise ValueError(f\"invalid {study=}\")\n",
    "    "
   ]
  },
  {
   "cell_type": "code",
   "execution_count": null,
   "id": "f2ba3cf9-1382-4706-a630-6cbc4969e34f",
   "metadata": {},
   "outputs": [],
   "source": []
  }
 ],
 "metadata": {
  "kernelspec": {
   "display_name": "Python 3 (ipykernel)",
   "language": "python",
   "name": "python3"
  },
  "language_info": {
   "codemirror_mode": {
    "name": "ipython",
    "version": 3
   },
   "file_extension": ".py",
   "mimetype": "text/x-python",
   "name": "python",
   "nbconvert_exporter": "python",
   "pygments_lexer": "ipython3",
   "version": "3.9.15"
  }
 },
 "nbformat": 4,
 "nbformat_minor": 5
}
