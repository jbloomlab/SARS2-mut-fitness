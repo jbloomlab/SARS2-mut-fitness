{
 "cells": [
  {
   "cell_type": "markdown",
   "id": "008b56e0-8e16-4e76-851c-edfdc35ca119",
   "metadata": {},
   "source": [
    "# Analyze fitness effects of mutations versus terminal and non-terminal counts\n",
    "This notebook is designed to see if the relative number of counts of mutations on terminal and non-terminal nodes scales with the fitness effects of those mutations.\n",
    "\n",
    "Import Python modules:"
   ]
  },
  {
   "cell_type": "code",
   "execution_count": null,
   "id": "6718e87a-8da0-49fa-a00a-6311caca0f83",
   "metadata": {},
   "outputs": [],
   "source": [
    "import altair as alt\n",
    "\n",
    "import numpy\n",
    "\n",
    "import pandas as pd\n",
    "\n",
    "import yaml\n",
    "\n",
    "_ = alt.data_transformers.disable_max_rows()"
   ]
  },
  {
   "cell_type": "markdown",
   "id": "60c785d9-1e75-4959-928b-c92580c31c62",
   "metadata": {},
   "source": [
    "Now get variables from `snakemake`:"
   ]
  },
  {
   "cell_type": "code",
   "execution_count": null,
   "id": "f47affb5-0a48-475e-a522-7de36413e745",
   "metadata": {},
   "outputs": [],
   "source": [
    "if \"snakemake\" not in globals() and \"snakemake\" not in locals():\n",
    "    # variables set manually for interactive debugging\n",
    "    aamut_all_csv = \"../results/aa_fitness/aamut_fitness_all.csv\"\n",
    "    mutcounts_csv = \"../results/mutation_counts/aggregated.csv\"\n",
    "    chartfile = \"../results/fitness_vs_terminal/fitness_vs_terminal.html\"\n",
    "    \n",
    "    with open(\"../config.yaml\") as f:\n",
    "        config = yaml.safe_load(f)\n",
    "    min_expected_count = config[\"min_expected_count\"]\n",
    "    \n",
    "else:\n",
    "    # get variables from `snakemake` when running pipeline\n",
    "    aamut_all_csv = snakemake.input.aamut_all\n",
    "    mutcounts_csv = snakemake.input.mutcounts\n",
    "    chartfile = snakemake.output.chart\n",
    "    min_expected_count = snakemake.params.min_expected_count"
   ]
  }
 ],
 "metadata": {
  "kernelspec": {
   "display_name": "Python 3 (ipykernel)",
   "language": "python",
   "name": "python3"
  },
  "language_info": {
   "codemirror_mode": {
    "name": "ipython",
    "version": 3
   },
   "file_extension": ".py",
   "mimetype": "text/x-python",
   "name": "python",
   "nbconvert_exporter": "python",
   "pygments_lexer": "ipython3",
   "version": "3.9.15"
  }
 },
 "nbformat": 4,
 "nbformat_minor": 5
}
